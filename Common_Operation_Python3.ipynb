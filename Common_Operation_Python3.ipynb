{
 "cells": [
  {
   "cell_type": "markdown",
   "metadata": {},
   "source": [
    "Convert two lists into one dict"
   ]
  },
  {
   "cell_type": "code",
   "execution_count": 1,
   "metadata": {},
   "outputs": [],
   "source": [
    "key = ['a', 'b']\n",
    "values = ['life', 'hard']\n",
    "dict_new = dict(zip(key, values))"
   ]
  },
  {
   "cell_type": "code",
   "execution_count": 2,
   "metadata": {},
   "outputs": [
    {
     "name": "stdout",
     "output_type": "stream",
     "text": [
      "{'a': 'life', 'b': 'hard'}\n"
     ]
    }
   ],
   "source": [
    "print(dict_new)"
   ]
  },
  {
   "cell_type": "markdown",
   "metadata": {},
   "source": [
    "# Sequence"
   ]
  },
  {
   "cell_type": "raw",
   "metadata": {},
   "source": [
    "list([iterable])\n",
    "tuple([iterable])\n",
    "str(obj)\n",
    "sum(iterable[,start])\n",
    "sorted(iterable, key=None, reverse=False)\n",
    "reversed(sequence)\n",
    "enumerate(iterable)\n",
    "zip(iter1[, iter2[...]])"
   ]
  },
  {
   "cell_type": "markdown",
   "metadata": {},
   "source": [
    "# Function"
   ]
  },
  {
   "cell_type": "markdown",
   "metadata": {},
   "source": [
    "1. Don't modify the value of global variable inside any function.\n",
    "2. Python function always return a value"
   ]
  },
  {
   "cell_type": "code",
   "execution_count": 48,
   "metadata": {},
   "outputs": [
    {
     "name": "stdout",
     "output_type": "stream",
     "text": [
      "Hello~\n",
      "None\n"
     ]
    }
   ],
   "source": [
    "# Python function default return: None\n",
    "def hello():\n",
    "    print('Hello~')\n",
    "print(hello())"
   ]
  },
  {
   "cell_type": "markdown",
   "metadata": {},
   "source": [
    "Lambda function"
   ]
  },
  {
   "cell_type": "code",
   "execution_count": 49,
   "metadata": {},
   "outputs": [
    {
     "data": {
      "text/plain": [
       "<function __main__.<lambda>(x)>"
      ]
     },
     "execution_count": 49,
     "metadata": {},
     "output_type": "execute_result"
    }
   ],
   "source": [
    "lambda x: 2*x + 1"
   ]
  },
  {
   "cell_type": "markdown",
   "metadata": {},
   "source": [
    "BIF: filter() and map()"
   ]
  },
  {
   "cell_type": "code",
   "execution_count": 50,
   "metadata": {},
   "outputs": [
    {
     "name": "stdout",
     "output_type": "stream",
     "text": [
      "Help on class filter in module builtins:\n",
      "\n",
      "class filter(object)\n",
      " |  filter(function or None, iterable) --> filter object\n",
      " |  \n",
      " |  Return an iterator yielding those items of iterable for which function(item)\n",
      " |  is true. If function is None, return the items that are true.\n",
      " |  \n",
      " |  Methods defined here:\n",
      " |  \n",
      " |  __getattribute__(self, name, /)\n",
      " |      Return getattr(self, name).\n",
      " |  \n",
      " |  __iter__(self, /)\n",
      " |      Implement iter(self).\n",
      " |  \n",
      " |  __next__(self, /)\n",
      " |      Implement next(self).\n",
      " |  \n",
      " |  __reduce__(...)\n",
      " |      Return state information for pickling.\n",
      " |  \n",
      " |  ----------------------------------------------------------------------\n",
      " |  Static methods defined here:\n",
      " |  \n",
      " |  __new__(*args, **kwargs) from builtins.type\n",
      " |      Create and return a new object.  See help(type) for accurate signature.\n",
      "\n"
     ]
    }
   ],
   "source": [
    "help(filter)"
   ]
  },
  {
   "cell_type": "markdown",
   "metadata": {},
   "source": [
    "filter function example"
   ]
  },
  {
   "cell_type": "code",
   "execution_count": 53,
   "metadata": {},
   "outputs": [
    {
     "data": {
      "text/plain": [
       "[1, True]"
      ]
     },
     "execution_count": 53,
     "metadata": {},
     "output_type": "execute_result"
    }
   ],
   "source": [
    "temp = filter(None, [1, 0, False, True])\n",
    "list(temp)"
   ]
  },
  {
   "cell_type": "code",
   "execution_count": 54,
   "metadata": {},
   "outputs": [
    {
     "data": {
      "text/plain": [
       "[1, 3, 5, 7, 9]"
      ]
     },
     "execution_count": 54,
     "metadata": {},
     "output_type": "execute_result"
    }
   ],
   "source": [
    "def odd(x):\n",
    "    return x % 2\n",
    "\n",
    "temp = filter(odd, range(10))\n",
    "list(temp)"
   ]
  },
  {
   "cell_type": "code",
   "execution_count": 56,
   "metadata": {},
   "outputs": [
    {
     "data": {
      "text/plain": [
       "[1, 3, 5, 7, 9]"
      ]
     },
     "execution_count": 56,
     "metadata": {},
     "output_type": "execute_result"
    }
   ],
   "source": [
    "temp = filter(lambda x: x % 2, range(10))\n",
    "list(temp)"
   ]
  },
  {
   "cell_type": "markdown",
   "metadata": {},
   "source": [
    "map function"
   ]
  },
  {
   "cell_type": "code",
   "execution_count": 55,
   "metadata": {},
   "outputs": [
    {
     "name": "stdout",
     "output_type": "stream",
     "text": [
      "Help on class map in module builtins:\n",
      "\n",
      "class map(object)\n",
      " |  map(func, *iterables) --> map object\n",
      " |  \n",
      " |  Make an iterator that computes the function using arguments from\n",
      " |  each of the iterables.  Stops when the shortest iterable is exhausted.\n",
      " |  \n",
      " |  Methods defined here:\n",
      " |  \n",
      " |  __getattribute__(self, name, /)\n",
      " |      Return getattr(self, name).\n",
      " |  \n",
      " |  __iter__(self, /)\n",
      " |      Implement iter(self).\n",
      " |  \n",
      " |  __next__(self, /)\n",
      " |      Implement next(self).\n",
      " |  \n",
      " |  __reduce__(...)\n",
      " |      Return state information for pickling.\n",
      " |  \n",
      " |  ----------------------------------------------------------------------\n",
      " |  Static methods defined here:\n",
      " |  \n",
      " |  __new__(*args, **kwargs) from builtins.type\n",
      " |      Create and return a new object.  See help(type) for accurate signature.\n",
      "\n"
     ]
    }
   ],
   "source": [
    "help(map)"
   ]
  },
  {
   "cell_type": "code",
   "execution_count": 57,
   "metadata": {},
   "outputs": [
    {
     "data": {
      "text/plain": [
       "[0, 1, 0, 1, 0, 1, 0, 1, 0, 1]"
      ]
     },
     "execution_count": 57,
     "metadata": {},
     "output_type": "execute_result"
    }
   ],
   "source": [
    "temp = map(lambda x: x%2, range(10))\n",
    "list(temp)"
   ]
  },
  {
   "cell_type": "markdown",
   "metadata": {},
   "source": [
    "# Recursive Function"
   ]
  },
  {
   "cell_type": "code",
   "execution_count": 59,
   "metadata": {},
   "outputs": [
    {
     "name": "stdout",
     "output_type": "stream",
     "text": [
      "120\n"
     ]
    }
   ],
   "source": [
    "def factorial(n):\n",
    "    if n == 1:\n",
    "        return 1\n",
    "    else:\n",
    "        return n * factorial(n-1)\n",
    "\n",
    "print(factorial(5))"
   ]
  },
  {
   "cell_type": "code",
   "execution_count": null,
   "metadata": {},
   "outputs": [],
   "source": []
  },
  {
   "cell_type": "code",
   "execution_count": null,
   "metadata": {},
   "outputs": [],
   "source": []
  },
  {
   "cell_type": "markdown",
   "metadata": {},
   "source": [
    "# Python Object Fundamental"
   ]
  },
  {
   "cell_type": "markdown",
   "metadata": {},
   "source": [
    "private and public variable in Class"
   ]
  },
  {
   "cell_type": "code",
   "execution_count": 2,
   "metadata": {},
   "outputs": [],
   "source": [
    "class Person:\n",
    "    name = 'littlefish'"
   ]
  },
  {
   "cell_type": "code",
   "execution_count": 3,
   "metadata": {},
   "outputs": [
    {
     "data": {
      "text/plain": [
       "'littlefish'"
      ]
     },
     "execution_count": 3,
     "metadata": {},
     "output_type": "execute_result"
    }
   ],
   "source": [
    "p = Person()\n",
    "p.name"
   ]
  },
  {
   "cell_type": "code",
   "execution_count": 4,
   "metadata": {},
   "outputs": [],
   "source": [
    "# name mangling\n",
    "class Person:\n",
    "    __name = 'littlefish'"
   ]
  },
  {
   "cell_type": "code",
   "execution_count": 5,
   "metadata": {
    "collapsed": true
   },
   "outputs": [
    {
     "ename": "AttributeError",
     "evalue": "'Person' object has no attribute 'name'",
     "output_type": "error",
     "traceback": [
      "\u001b[0;31m---------------------------------------------------------------------------\u001b[0m",
      "\u001b[0;31mAttributeError\u001b[0m                            Traceback (most recent call last)",
      "\u001b[0;32m<ipython-input-5-3f7462774d9d>\u001b[0m in \u001b[0;36m<module>\u001b[0;34m\u001b[0m\n\u001b[1;32m      1\u001b[0m \u001b[0mp\u001b[0m \u001b[0;34m=\u001b[0m \u001b[0mPerson\u001b[0m\u001b[0;34m(\u001b[0m\u001b[0;34m)\u001b[0m\u001b[0;34m\u001b[0m\u001b[0;34m\u001b[0m\u001b[0m\n\u001b[0;32m----> 2\u001b[0;31m \u001b[0mp\u001b[0m\u001b[0;34m.\u001b[0m\u001b[0mname\u001b[0m\u001b[0;34m\u001b[0m\u001b[0;34m\u001b[0m\u001b[0m\n\u001b[0m",
      "\u001b[0;31mAttributeError\u001b[0m: 'Person' object has no attribute 'name'"
     ]
    }
   ],
   "source": [
    "p = Person()\n",
    "p.name"
   ]
  },
  {
   "cell_type": "code",
   "execution_count": 6,
   "metadata": {},
   "outputs": [
    {
     "data": {
      "text/plain": [
       "'littlefish'"
      ]
     },
     "execution_count": 6,
     "metadata": {},
     "output_type": "execute_result"
    }
   ],
   "source": [
    "p._Person__name"
   ]
  },
  {
   "cell_type": "markdown",
   "metadata": {},
   "source": [
    "Inheritance"
   ]
  },
  {
   "cell_type": "code",
   "execution_count": 8,
   "metadata": {},
   "outputs": [],
   "source": [
    "class Parent:\n",
    "    def hello(self):\n",
    "        print('calling parent method')\n",
    "\n",
    "class Child(Parent):\n",
    "    pass"
   ]
  },
  {
   "cell_type": "code",
   "execution_count": 11,
   "metadata": {},
   "outputs": [
    {
     "name": "stdout",
     "output_type": "stream",
     "text": [
      "calling parent method\n",
      "calling parent method\n"
     ]
    }
   ],
   "source": [
    "p = Parent()\n",
    "p.hello()\n",
    "c = Child()\n",
    "c.hello()"
   ]
  },
  {
   "cell_type": "code",
   "execution_count": 12,
   "metadata": {},
   "outputs": [],
   "source": [
    "class Child(Parent):\n",
    "    def hello(self):\n",
    "        print('calling child method')"
   ]
  },
  {
   "cell_type": "code",
   "execution_count": 14,
   "metadata": {},
   "outputs": [
    {
     "name": "stdout",
     "output_type": "stream",
     "text": [
      "calling child method\n",
      "calling parent method\n"
     ]
    }
   ],
   "source": [
    "c = Child()\n",
    "c.hello()\n",
    "p.hello()"
   ]
  },
  {
   "cell_type": "code",
   "execution_count": 16,
   "metadata": {},
   "outputs": [],
   "source": [
    "import random\n",
    "class Fish:\n",
    "    def __init__(self):\n",
    "        self.x = random.randint(0, 10)\n",
    "        self.y = random.randint(0, 10)\n",
    "    \n",
    "    def move(self):\n",
    "        self.x -= 1\n",
    "        print('position: {} and {}'.format(self.x, self.y))\n",
    "\n",
    "class Carp(Fish):\n",
    "    pass\n",
    "\n",
    "class Shark(Fish):\n",
    "    def __init__(self):\n",
    "        self.hungry = True\n",
    "    \n",
    "    def eat(self):\n",
    "        if self.hungry:\n",
    "            print('keep eating')\n",
    "            self.hungry = False\n",
    "        else:\n",
    "            print('Enough eating')"
   ]
  },
  {
   "cell_type": "code",
   "execution_count": 19,
   "metadata": {
    "collapsed": true
   },
   "outputs": [
    {
     "name": "stdout",
     "output_type": "stream",
     "text": [
      "position: 9 and 0\n",
      "keep eating\n"
     ]
    },
    {
     "ename": "AttributeError",
     "evalue": "'Shark' object has no attribute 'x'",
     "output_type": "error",
     "traceback": [
      "\u001b[0;31m---------------------------------------------------------------------------\u001b[0m",
      "\u001b[0;31mAttributeError\u001b[0m                            Traceback (most recent call last)",
      "\u001b[0;32m<ipython-input-19-f81fe13e592a>\u001b[0m in \u001b[0;36m<module>\u001b[0;34m\u001b[0m\n\u001b[1;32m      3\u001b[0m \u001b[0mshark\u001b[0m \u001b[0;34m=\u001b[0m \u001b[0mShark\u001b[0m\u001b[0;34m(\u001b[0m\u001b[0;34m)\u001b[0m\u001b[0;34m\u001b[0m\u001b[0;34m\u001b[0m\u001b[0m\n\u001b[1;32m      4\u001b[0m \u001b[0mshark\u001b[0m\u001b[0;34m.\u001b[0m\u001b[0meat\u001b[0m\u001b[0;34m(\u001b[0m\u001b[0;34m)\u001b[0m\u001b[0;34m\u001b[0m\u001b[0;34m\u001b[0m\u001b[0m\n\u001b[0;32m----> 5\u001b[0;31m \u001b[0mshark\u001b[0m\u001b[0;34m.\u001b[0m\u001b[0mmove\u001b[0m\u001b[0;34m(\u001b[0m\u001b[0;34m)\u001b[0m\u001b[0;34m\u001b[0m\u001b[0;34m\u001b[0m\u001b[0m\n\u001b[0m",
      "\u001b[0;32m<ipython-input-16-cf547b38f7fd>\u001b[0m in \u001b[0;36mmove\u001b[0;34m(self)\u001b[0m\n\u001b[1;32m      6\u001b[0m \u001b[0;34m\u001b[0m\u001b[0m\n\u001b[1;32m      7\u001b[0m     \u001b[0;32mdef\u001b[0m \u001b[0mmove\u001b[0m\u001b[0;34m(\u001b[0m\u001b[0mself\u001b[0m\u001b[0;34m)\u001b[0m\u001b[0;34m:\u001b[0m\u001b[0;34m\u001b[0m\u001b[0;34m\u001b[0m\u001b[0m\n\u001b[0;32m----> 8\u001b[0;31m         \u001b[0mself\u001b[0m\u001b[0;34m.\u001b[0m\u001b[0mx\u001b[0m \u001b[0;34m-=\u001b[0m \u001b[0;36m1\u001b[0m\u001b[0;34m\u001b[0m\u001b[0;34m\u001b[0m\u001b[0m\n\u001b[0m\u001b[1;32m      9\u001b[0m         \u001b[0mprint\u001b[0m\u001b[0;34m(\u001b[0m\u001b[0;34m'position: {} and {}'\u001b[0m\u001b[0;34m.\u001b[0m\u001b[0mformat\u001b[0m\u001b[0;34m(\u001b[0m\u001b[0mself\u001b[0m\u001b[0;34m.\u001b[0m\u001b[0mx\u001b[0m\u001b[0;34m,\u001b[0m \u001b[0mself\u001b[0m\u001b[0;34m.\u001b[0m\u001b[0my\u001b[0m\u001b[0;34m)\u001b[0m\u001b[0;34m)\u001b[0m\u001b[0;34m\u001b[0m\u001b[0;34m\u001b[0m\u001b[0m\n\u001b[1;32m     10\u001b[0m \u001b[0;34m\u001b[0m\u001b[0m\n",
      "\u001b[0;31mAttributeError\u001b[0m: 'Shark' object has no attribute 'x'"
     ]
    }
   ],
   "source": [
    "fish = Fish()\n",
    "fish.move()\n",
    "shark = Shark()\n",
    "shark.eat()\n",
    "shark.move()"
   ]
  },
  {
   "cell_type": "markdown",
   "metadata": {},
   "source": [
    "In Shark Class, attribute x is not defined. So we need to initialize x in __init__ function."
   ]
  },
  {
   "cell_type": "code",
   "execution_count": 20,
   "metadata": {},
   "outputs": [],
   "source": [
    "# Method 1\n",
    "class Shark(Fish):\n",
    "    def __init__(self):\n",
    "        Fish.__init__(self)\n",
    "        self.hungry = True\n",
    "    \n",
    "    def eat(self):\n",
    "        if self.hungry:\n",
    "            print('keep eating')\n",
    "            self.hungry = False\n",
    "        else:\n",
    "            print('Enough eating')"
   ]
  },
  {
   "cell_type": "code",
   "execution_count": 21,
   "metadata": {},
   "outputs": [
    {
     "name": "stdout",
     "output_type": "stream",
     "text": [
      "keep eating\n",
      "position: 0 and 1\n"
     ]
    }
   ],
   "source": [
    "shark = Shark()\n",
    "shark.eat()\n",
    "shark.move()"
   ]
  },
  {
   "cell_type": "code",
   "execution_count": 22,
   "metadata": {},
   "outputs": [],
   "source": [
    "# Method 2: super() function\n",
    "class Shark(Fish):\n",
    "    def __init__(self):\n",
    "        super().__init__()\n",
    "        self.hungry = True\n",
    "    \n",
    "    def eat(self):\n",
    "        if self.hungry:\n",
    "            print('keep eating')\n",
    "            self.hungry = False\n",
    "        else:\n",
    "            print('Enough eating')"
   ]
  },
  {
   "cell_type": "code",
   "execution_count": 23,
   "metadata": {},
   "outputs": [
    {
     "name": "stdout",
     "output_type": "stream",
     "text": [
      "keep eating\n",
      "position: 8 and 8\n"
     ]
    }
   ],
   "source": [
    "shark = Shark()\n",
    "shark.eat()\n",
    "shark.move()"
   ]
  },
  {
   "cell_type": "markdown",
   "metadata": {},
   "source": [
    "Multi-inheritance"
   ]
  },
  {
   "cell_type": "code",
   "execution_count": 24,
   "metadata": {},
   "outputs": [],
   "source": [
    "class Base1:\n",
    "    def foo1(self):\n",
    "        print('foo1 for base1')\n",
    "\n",
    "class Base2:\n",
    "    def foo2(self):\n",
    "        print('foo2 for base2')\n",
    "\n",
    "class C(Base1, Base2):\n",
    "    pass"
   ]
  },
  {
   "cell_type": "code",
   "execution_count": 25,
   "metadata": {},
   "outputs": [
    {
     "name": "stdout",
     "output_type": "stream",
     "text": [
      "foo1 for base1\n",
      "foo2 for base2\n"
     ]
    }
   ],
   "source": [
    "c = C()\n",
    "c.foo1()\n",
    "c.foo2()"
   ]
  },
  {
   "cell_type": "markdown",
   "metadata": {},
   "source": [
    "Multi-inheritance is not recommended due to its complexity."
   ]
  },
  {
   "cell_type": "markdown",
   "metadata": {},
   "source": [
    "Combination"
   ]
  },
  {
   "cell_type": "code",
   "execution_count": 27,
   "metadata": {},
   "outputs": [],
   "source": [
    "# Define a Pool in which has turtle and fish\n",
    "# Combine turtle and fish into pool\n",
    "class Turtle:\n",
    "    def __init__(self, x):\n",
    "        self.num = x\n",
    "\n",
    "class Fish:\n",
    "    def __init__(self, x):\n",
    "        self.num = x\n",
    "\n",
    "class Pool:\n",
    "    def __init__(self, x, y):\n",
    "        self.turtle = Turtle(x)\n",
    "        self.fish = Fish(y)\n",
    "        \n",
    "    def print_num(self):\n",
    "        print('Pool has {} turtles and {} fish'.format(self.turtle.num, self.fish.num))\n",
    "        "
   ]
  },
  {
   "cell_type": "code",
   "execution_count": 28,
   "metadata": {},
   "outputs": [
    {
     "name": "stdout",
     "output_type": "stream",
     "text": [
      "Pool has 1 turtles and 10 fish\n"
     ]
    }
   ],
   "source": [
    "pool = Pool(1, 10)\n",
    "pool.print_num()"
   ]
  },
  {
   "cell_type": "code",
   "execution_count": 29,
   "metadata": {},
   "outputs": [
    {
     "data": {
      "text/plain": [
       "{'turtle': <__main__.Turtle at 0x1088509e8>,\n",
       " 'fish': <__main__.Fish at 0x108850940>}"
      ]
     },
     "execution_count": 29,
     "metadata": {},
     "output_type": "execute_result"
    }
   ],
   "source": [
    "pool.__dict__"
   ]
  },
  {
   "cell_type": "code",
   "execution_count": 30,
   "metadata": {},
   "outputs": [
    {
     "data": {
      "text/plain": [
       "mappingproxy({'__module__': '__main__',\n",
       "              '__init__': <function __main__.Pool.__init__(self, x, y)>,\n",
       "              'print_num': <function __main__.Pool.print_num(self)>,\n",
       "              '__dict__': <attribute '__dict__' of 'Pool' objects>,\n",
       "              '__weakref__': <attribute '__weakref__' of 'Pool' objects>,\n",
       "              '__doc__': None})"
      ]
     },
     "execution_count": 30,
     "metadata": {},
     "output_type": "execute_result"
    }
   ],
   "source": [
    "Pool.__dict__"
   ]
  },
  {
   "cell_type": "markdown",
   "metadata": {},
   "source": [
    "Related BIF"
   ]
  },
  {
   "cell_type": "markdown",
   "metadata": {},
   "source": [
    "issubclass(class, classinfo)\n",
    "\n",
    "isinstance(object, classinfo)\n",
    "\n",
    "hasattr(object, name)\n",
    "\n",
    "getattr(object, name[ , default])\n",
    "\n",
    "setattr(object, name)\n",
    "\n",
    "delattr(object, name)\n",
    "\n",
    "property(fget=None, fset=None, fdel=None, doc=None)"
   ]
  },
  {
   "cell_type": "code",
   "execution_count": 31,
   "metadata": {},
   "outputs": [],
   "source": [
    "class C:\n",
    "    def __init__(self, size=10):\n",
    "        self.size = size\n",
    "    \n",
    "    def getsize(self):\n",
    "        return self.size\n",
    "    \n",
    "    def setsize(self, value):\n",
    "        self.size = value\n",
    "        \n",
    "    def delsize(self):\n",
    "        del self.size\n",
    "    \n",
    "    x = property(getsize, setsize, delsize)"
   ]
  },
  {
   "cell_type": "code",
   "execution_count": 33,
   "metadata": {},
   "outputs": [
    {
     "data": {
      "text/plain": [
       "10"
      ]
     },
     "execution_count": 33,
     "metadata": {},
     "output_type": "execute_result"
    }
   ],
   "source": [
    "c1 = C()\n",
    "c1.getsize()"
   ]
  },
  {
   "cell_type": "code",
   "execution_count": 34,
   "metadata": {},
   "outputs": [
    {
     "data": {
      "text/plain": [
       "10"
      ]
     },
     "execution_count": 34,
     "metadata": {},
     "output_type": "execute_result"
    }
   ],
   "source": [
    "c1.x"
   ]
  },
  {
   "cell_type": "code",
   "execution_count": 35,
   "metadata": {},
   "outputs": [],
   "source": [
    "c1.x = 18"
   ]
  },
  {
   "cell_type": "code",
   "execution_count": 36,
   "metadata": {},
   "outputs": [
    {
     "data": {
      "text/plain": [
       "18"
      ]
     },
     "execution_count": 36,
     "metadata": {},
     "output_type": "execute_result"
    }
   ],
   "source": [
    "c1.x"
   ]
  },
  {
   "cell_type": "code",
   "execution_count": 37,
   "metadata": {},
   "outputs": [
    {
     "data": {
      "text/plain": [
       "18"
      ]
     },
     "execution_count": 37,
     "metadata": {},
     "output_type": "execute_result"
    }
   ],
   "source": [
    "c1.size"
   ]
  },
  {
   "cell_type": "code",
   "execution_count": 38,
   "metadata": {
    "collapsed": true
   },
   "outputs": [
    {
     "ename": "AttributeError",
     "evalue": "'C' object has no attribute 'size'",
     "output_type": "error",
     "traceback": [
      "\u001b[0;31m---------------------------------------------------------------------------\u001b[0m",
      "\u001b[0;31mAttributeError\u001b[0m                            Traceback (most recent call last)",
      "\u001b[0;32m<ipython-input-38-74fba5758576>\u001b[0m in \u001b[0;36m<module>\u001b[0;34m\u001b[0m\n\u001b[1;32m      1\u001b[0m \u001b[0;32mdel\u001b[0m \u001b[0mc1\u001b[0m\u001b[0;34m.\u001b[0m\u001b[0mx\u001b[0m\u001b[0;34m\u001b[0m\u001b[0;34m\u001b[0m\u001b[0m\n\u001b[0;32m----> 2\u001b[0;31m \u001b[0mc1\u001b[0m\u001b[0;34m.\u001b[0m\u001b[0msize\u001b[0m\u001b[0;34m\u001b[0m\u001b[0;34m\u001b[0m\u001b[0m\n\u001b[0m",
      "\u001b[0;31mAttributeError\u001b[0m: 'C' object has no attribute 'size'"
     ]
    }
   ],
   "source": [
    "del c1.x\n",
    "c1.size"
   ]
  },
  {
   "cell_type": "markdown",
   "metadata": {},
   "source": [
    "property function is easier for packaging any variable with functions"
   ]
  },
  {
   "cell_type": "markdown",
   "metadata": {},
   "source": [
    "# Magic Methods"
   ]
  },
  {
   "cell_type": "raw",
   "metadata": {},
   "source": [
    "Construct: __init__\n",
    "\n",
    "When to define __init__: depending on the needs\n",
    "\n",
    "note1: __init__() should return None"
   ]
  },
  {
   "cell_type": "code",
   "execution_count": 40,
   "metadata": {},
   "outputs": [],
   "source": [
    "# Example 1: __init__ is needed to be defined\n",
    "class Rectangle:\n",
    "    def __init__(self, x, y):\n",
    "        self.x = x\n",
    "        self.y = y\n",
    "        \n",
    "    def getPeri(self):\n",
    "        return 2*(self.x +  self.y)\n",
    "    \n",
    "    def getArea(self):\n",
    "        return self.x * self.y"
   ]
  },
  {
   "cell_type": "raw",
   "metadata": {},
   "source": [
    "rect = Rectangle(3, 4)\n",
    "rect.getPeri()"
   ]
  },
  {
   "cell_type": "code",
   "execution_count": 42,
   "metadata": {},
   "outputs": [
    {
     "data": {
      "text/plain": [
       "12"
      ]
     },
     "execution_count": 42,
     "metadata": {},
     "output_type": "execute_result"
    }
   ],
   "source": [
    "rect.getArea()"
   ]
  },
  {
   "cell_type": "raw",
   "metadata": {},
   "source": [
    "When constructing, __new__(cls[, ....]) is called first and then comes to __init__()\n",
    "\n",
    "__new__() return an object (running by default)"
   ]
  },
  {
   "cell_type": "code",
   "execution_count": 43,
   "metadata": {},
   "outputs": [],
   "source": [
    "# Example: when __new__() needs to be re-defined\n",
    "\n",
    "# As class str is non-alterable, __new__() needs to be re-defined so that CapStr can be edited\n",
    "class CapStr(str):\n",
    "    def __new__(cls, string):\n",
    "        string = string.upper()\n",
    "        return str.__new__(cls, string)"
   ]
  },
  {
   "cell_type": "code",
   "execution_count": 44,
   "metadata": {},
   "outputs": [],
   "source": [
    "a = CapStr(\"I love money\")"
   ]
  },
  {
   "cell_type": "code",
   "execution_count": 45,
   "metadata": {},
   "outputs": [
    {
     "data": {
      "text/plain": [
       "'I LOVE MONEY'"
      ]
     },
     "execution_count": 45,
     "metadata": {},
     "output_type": "execute_result"
    }
   ],
   "source": [
    "a"
   ]
  },
  {
   "cell_type": "raw",
   "metadata": {},
   "source": [
    "__del__(self) is called when all referece objects are deleted"
   ]
  },
  {
   "cell_type": "code",
   "execution_count": 46,
   "metadata": {},
   "outputs": [],
   "source": [
    "class C:\n",
    "    def __init__(self):\n",
    "        print('calling __init__() method!')\n",
    "    \n",
    "    def __del__(self):\n",
    "        print('calling __del__() method!')"
   ]
  },
  {
   "cell_type": "code",
   "execution_count": 47,
   "metadata": {
    "scrolled": true
   },
   "outputs": [
    {
     "name": "stdout",
     "output_type": "stream",
     "text": [
      "calling __init__() method!\n",
      "---\n",
      "---\n",
      "calling __del__() method!\n",
      "---\n"
     ]
    }
   ],
   "source": [
    "c1 = C()\n",
    "c2 = c1\n",
    "c3 = c2\n",
    "del c3\n",
    "print('---')\n",
    "del c2\n",
    "print('---')\n",
    "del c1\n",
    "print('---')"
   ]
  },
  {
   "cell_type": "markdown",
   "metadata": {},
   "source": [
    "Basic __Magic Method__: Factory Function (int, tuple, list)"
   ]
  },
  {
   "cell_type": "code",
   "execution_count": 60,
   "metadata": {},
   "outputs": [
    {
     "data": {
      "text/plain": [
       "builtin_function_or_method"
      ]
     },
     "execution_count": 60,
     "metadata": {},
     "output_type": "execute_result"
    }
   ],
   "source": [
    "type(len)"
   ]
  },
  {
   "cell_type": "code",
   "execution_count": 61,
   "metadata": {},
   "outputs": [
    {
     "data": {
      "text/plain": [
       "type"
      ]
     },
     "execution_count": 61,
     "metadata": {},
     "output_type": "execute_result"
    }
   ],
   "source": [
    "type(int)"
   ]
  },
  {
   "cell_type": "markdown",
   "metadata": {},
   "source": [
    "int('123'):\n",
    "\n",
    "initiate a int class instance with '123' parsed"
   ]
  },
  {
   "cell_type": "raw",
   "metadata": {},
   "source": [
    "magic methods:\n",
    "__add__(self, other)\n",
    "__sub__(self, other)\n",
    "__mul__(self, other)\n",
    "__truediv__(self, other)\n",
    "__floordiv__(self, other)\n",
    "__mod__(self, other)\n",
    "__divmod__(self, other)\n",
    "__pow__(self, other)\n",
    "__lshift__(self, other)\n",
    "_rshift__(self, other)\n",
    "__and__(self, other)\n",
    "__xor__(self, other)\n",
    "__or__(self, other)"
   ]
  },
  {
   "cell_type": "code",
   "execution_count": 62,
   "metadata": {},
   "outputs": [],
   "source": [
    "class New_int(int):\n",
    "    def __add__(self, other):\n",
    "        return int.__sub__(self, other)\n",
    "\n",
    "    def __sub__(self, other):\n",
    "        return int.__add__(self, other)"
   ]
  },
  {
   "cell_type": "code",
   "execution_count": 63,
   "metadata": {},
   "outputs": [],
   "source": [
    "a = New_int(3)\n",
    "b = New_int(5)"
   ]
  },
  {
   "cell_type": "code",
   "execution_count": 64,
   "metadata": {},
   "outputs": [
    {
     "data": {
      "text/plain": [
       "-2"
      ]
     },
     "execution_count": 64,
     "metadata": {},
     "output_type": "execute_result"
    }
   ],
   "source": [
    "a + b"
   ]
  },
  {
   "cell_type": "code",
   "execution_count": 69,
   "metadata": {},
   "outputs": [],
   "source": [
    "class Try_int(int):\n",
    "    def __add__(self, other):\n",
    "#         return self + other\n",
    "        return int(self) + int(other)\n",
    "    def __sub__(self, other):\n",
    "        return int(self) - int(other)"
   ]
  },
  {
   "cell_type": "code",
   "execution_count": 70,
   "metadata": {},
   "outputs": [],
   "source": [
    "a = Try_int(3)\n",
    "b = Try_int(5)"
   ]
  },
  {
   "cell_type": "code",
   "execution_count": 71,
   "metadata": {},
   "outputs": [
    {
     "data": {
      "text/plain": [
       "-2"
      ]
     },
     "execution_count": 71,
     "metadata": {},
     "output_type": "execute_result"
    }
   ],
   "source": [
    "a - b"
   ]
  },
  {
   "cell_type": "code",
   "execution_count": 68,
   "metadata": {
    "collapsed": true
   },
   "outputs": [
    {
     "name": "stdout",
     "output_type": "stream",
     "text": [
      "Help on class int in module builtins:\n",
      "\n",
      "class int(object)\n",
      " |  int([x]) -> integer\n",
      " |  int(x, base=10) -> integer\n",
      " |  \n",
      " |  Convert a number or string to an integer, or return 0 if no arguments\n",
      " |  are given.  If x is a number, return x.__int__().  For floating point\n",
      " |  numbers, this truncates towards zero.\n",
      " |  \n",
      " |  If x is not a number or if base is given, then x must be a string,\n",
      " |  bytes, or bytearray instance representing an integer literal in the\n",
      " |  given base.  The literal can be preceded by '+' or '-' and be surrounded\n",
      " |  by whitespace.  The base defaults to 10.  Valid bases are 0 and 2-36.\n",
      " |  Base 0 means to interpret the base from the string as an integer literal.\n",
      " |  >>> int('0b100', base=0)\n",
      " |  4\n",
      " |  \n",
      " |  Methods defined here:\n",
      " |  \n",
      " |  __abs__(self, /)\n",
      " |      abs(self)\n",
      " |  \n",
      " |  __add__(self, value, /)\n",
      " |      Return self+value.\n",
      " |  \n",
      " |  __and__(self, value, /)\n",
      " |      Return self&value.\n",
      " |  \n",
      " |  __bool__(self, /)\n",
      " |      self != 0\n",
      " |  \n",
      " |  __ceil__(...)\n",
      " |      Ceiling of an Integral returns itself.\n",
      " |  \n",
      " |  __divmod__(self, value, /)\n",
      " |      Return divmod(self, value).\n",
      " |  \n",
      " |  __eq__(self, value, /)\n",
      " |      Return self==value.\n",
      " |  \n",
      " |  __float__(self, /)\n",
      " |      float(self)\n",
      " |  \n",
      " |  __floor__(...)\n",
      " |      Flooring an Integral returns itself.\n",
      " |  \n",
      " |  __floordiv__(self, value, /)\n",
      " |      Return self//value.\n",
      " |  \n",
      " |  __format__(self, format_spec, /)\n",
      " |      Default object formatter.\n",
      " |  \n",
      " |  __ge__(self, value, /)\n",
      " |      Return self>=value.\n",
      " |  \n",
      " |  __getattribute__(self, name, /)\n",
      " |      Return getattr(self, name).\n",
      " |  \n",
      " |  __getnewargs__(self, /)\n",
      " |  \n",
      " |  __gt__(self, value, /)\n",
      " |      Return self>value.\n",
      " |  \n",
      " |  __hash__(self, /)\n",
      " |      Return hash(self).\n",
      " |  \n",
      " |  __index__(self, /)\n",
      " |      Return self converted to an integer, if self is suitable for use as an index into a list.\n",
      " |  \n",
      " |  __int__(self, /)\n",
      " |      int(self)\n",
      " |  \n",
      " |  __invert__(self, /)\n",
      " |      ~self\n",
      " |  \n",
      " |  __le__(self, value, /)\n",
      " |      Return self<=value.\n",
      " |  \n",
      " |  __lshift__(self, value, /)\n",
      " |      Return self<<value.\n",
      " |  \n",
      " |  __lt__(self, value, /)\n",
      " |      Return self<value.\n",
      " |  \n",
      " |  __mod__(self, value, /)\n",
      " |      Return self%value.\n",
      " |  \n",
      " |  __mul__(self, value, /)\n",
      " |      Return self*value.\n",
      " |  \n",
      " |  __ne__(self, value, /)\n",
      " |      Return self!=value.\n",
      " |  \n",
      " |  __neg__(self, /)\n",
      " |      -self\n",
      " |  \n",
      " |  __or__(self, value, /)\n",
      " |      Return self|value.\n",
      " |  \n",
      " |  __pos__(self, /)\n",
      " |      +self\n",
      " |  \n",
      " |  __pow__(self, value, mod=None, /)\n",
      " |      Return pow(self, value, mod).\n",
      " |  \n",
      " |  __radd__(self, value, /)\n",
      " |      Return value+self.\n",
      " |  \n",
      " |  __rand__(self, value, /)\n",
      " |      Return value&self.\n",
      " |  \n",
      " |  __rdivmod__(self, value, /)\n",
      " |      Return divmod(value, self).\n",
      " |  \n",
      " |  __repr__(self, /)\n",
      " |      Return repr(self).\n",
      " |  \n",
      " |  __rfloordiv__(self, value, /)\n",
      " |      Return value//self.\n",
      " |  \n",
      " |  __rlshift__(self, value, /)\n",
      " |      Return value<<self.\n",
      " |  \n",
      " |  __rmod__(self, value, /)\n",
      " |      Return value%self.\n",
      " |  \n",
      " |  __rmul__(self, value, /)\n",
      " |      Return value*self.\n",
      " |  \n",
      " |  __ror__(self, value, /)\n",
      " |      Return value|self.\n",
      " |  \n",
      " |  __round__(...)\n",
      " |      Rounding an Integral returns itself.\n",
      " |      Rounding with an ndigits argument also returns an integer.\n",
      " |  \n",
      " |  __rpow__(self, value, mod=None, /)\n",
      " |      Return pow(value, self, mod).\n",
      " |  \n",
      " |  __rrshift__(self, value, /)\n",
      " |      Return value>>self.\n",
      " |  \n",
      " |  __rshift__(self, value, /)\n",
      " |      Return self>>value.\n",
      " |  \n",
      " |  __rsub__(self, value, /)\n",
      " |      Return value-self.\n",
      " |  \n",
      " |  __rtruediv__(self, value, /)\n",
      " |      Return value/self.\n",
      " |  \n",
      " |  __rxor__(self, value, /)\n",
      " |      Return value^self.\n",
      " |  \n",
      " |  __sizeof__(self, /)\n",
      " |      Returns size in memory, in bytes.\n",
      " |  \n",
      " |  __str__(self, /)\n",
      " |      Return str(self).\n",
      " |  \n",
      " |  __sub__(self, value, /)\n",
      " |      Return self-value.\n",
      " |  \n",
      " |  __truediv__(self, value, /)\n",
      " |      Return self/value.\n",
      " |  \n",
      " |  __trunc__(...)\n",
      " |      Truncating an Integral returns itself.\n",
      " |  \n",
      " |  __xor__(self, value, /)\n",
      " |      Return self^value.\n",
      " |  \n",
      " |  bit_length(self, /)\n",
      " |      Number of bits necessary to represent self in binary.\n",
      " |      \n",
      " |      >>> bin(37)\n",
      " |      '0b100101'\n",
      " |      >>> (37).bit_length()\n",
      " |      6\n",
      " |  \n",
      " |  conjugate(...)\n",
      " |      Returns self, the complex conjugate of any int.\n",
      " |  \n",
      " |  to_bytes(self, /, length, byteorder, *, signed=False)\n",
      " |      Return an array of bytes representing an integer.\n",
      " |      \n",
      " |      length\n",
      " |        Length of bytes object to use.  An OverflowError is raised if the\n",
      " |        integer is not representable with the given number of bytes.\n",
      " |      byteorder\n",
      " |        The byte order used to represent the integer.  If byteorder is 'big',\n",
      " |        the most significant byte is at the beginning of the byte array.  If\n",
      " |        byteorder is 'little', the most significant byte is at the end of the\n",
      " |        byte array.  To request the native byte order of the host system, use\n",
      " |        `sys.byteorder' as the byte order value.\n",
      " |      signed\n",
      " |        Determines whether two's complement is used to represent the integer.\n",
      " |        If signed is False and a negative integer is given, an OverflowError\n",
      " |        is raised.\n",
      " |  \n",
      " |  ----------------------------------------------------------------------\n",
      " |  Class methods defined here:\n",
      " |  \n",
      " |  from_bytes(bytes, byteorder, *, signed=False) from builtins.type\n",
      " |      Return the integer represented by the given array of bytes.\n",
      " |      \n",
      " |      bytes\n",
      " |        Holds the array of bytes to convert.  The argument must either\n",
      " |        support the buffer protocol or be an iterable object producing bytes.\n",
      " |        Bytes and bytearray are examples of built-in objects that support the\n",
      " |        buffer protocol.\n",
      " |      byteorder\n",
      " |        The byte order used to represent the integer.  If byteorder is 'big',\n",
      " |        the most significant byte is at the beginning of the byte array.  If\n",
      " |        byteorder is 'little', the most significant byte is at the end of the\n",
      " |        byte array.  To request the native byte order of the host system, use\n",
      " |        `sys.byteorder' as the byte order value.\n",
      " |      signed\n",
      " |        Indicates whether two's complement is used to represent the integer.\n",
      " |  \n",
      " |  ----------------------------------------------------------------------\n",
      " |  Static methods defined here:\n",
      " |  \n",
      " |  __new__(*args, **kwargs) from builtins.type\n",
      " |      Create and return a new object.  See help(type) for accurate signature.\n",
      " |  \n",
      " |  ----------------------------------------------------------------------\n",
      " |  Data descriptors defined here:\n",
      " |  \n",
      " |  denominator\n",
      " |      the denominator of a rational number in lowest terms\n",
      " |  \n",
      " |  imag\n",
      " |      the imaginary part of a complex number\n",
      " |  \n",
      " |  numerator\n",
      " |      the numerator of a rational number in lowest terms\n",
      " |  \n",
      " |  real\n",
      " |      the real part of a complex number\n",
      "\n"
     ]
    }
   ],
   "source": [
    "help(int)"
   ]
  },
  {
   "cell_type": "markdown",
   "metadata": {},
   "source": [
    "Magic Method 2:"
   ]
  },
  {
   "cell_type": "code",
   "execution_count": 72,
   "metadata": {},
   "outputs": [],
   "source": [
    "class int(int):\n",
    "    def __add__(self, other):\n",
    "        return int.__sub__(self, other)"
   ]
  },
  {
   "cell_type": "code",
   "execution_count": 73,
   "metadata": {},
   "outputs": [
    {
     "data": {
      "text/plain": [
       "5"
      ]
     },
     "execution_count": 73,
     "metadata": {},
     "output_type": "execute_result"
    }
   ],
   "source": [
    "a = int('5')\n",
    "a"
   ]
  },
  {
   "cell_type": "raw",
   "metadata": {},
   "source": [
    "__radd__(self, other): reverse calculation when __add__ doesn't work"
   ]
  },
  {
   "cell_type": "code",
   "execution_count": 74,
   "metadata": {},
   "outputs": [],
   "source": [
    "class Nint(int):\n",
    "    def __radd__(self, other):\n",
    "        return int.__sub__(self, other)"
   ]
  },
  {
   "cell_type": "code",
   "execution_count": 75,
   "metadata": {},
   "outputs": [
    {
     "data": {
      "text/plain": [
       "2"
      ]
     },
     "execution_count": 75,
     "metadata": {},
     "output_type": "execute_result"
    }
   ],
   "source": [
    "a = Nint(5)\n",
    "b = Nint(3)\n",
    "# __radd__(b, a) == __sub__(b, a)\n",
    "a + b"
   ]
  },
  {
   "cell_type": "markdown",
   "metadata": {},
   "source": [
    "__Inplace Operator__"
   ]
  },
  {
   "cell_type": "raw",
   "metadata": {},
   "source": [
    "__iadd__(self, other)\n",
    "__isub__(self, other)\n",
    "__imul__(self, other)\n",
    "__itruediv__(self, other)\n",
    "__ifloordiv__(self, other)"
   ]
  },
  {
   "cell_type": "markdown",
   "metadata": {},
   "source": [
    "__Unary Operator__"
   ]
  },
  {
   "cell_type": "raw",
   "metadata": {},
   "source": [
    "__neg__(self): -x\n",
    "__pos__(self): +x\n",
    "__abs__(self): absolute value\n",
    "__invert__(self): ~x "
   ]
  },
  {
   "cell_type": "markdown",
   "metadata": {},
   "source": [
    "__Experimental Class Custom__"
   ]
  },
  {
   "cell_type": "markdown",
   "metadata": {},
   "source": [
    "Requirements:\n",
    "\n",
    "1. a class to record\n",
    "2. method: start(), stop()\n",
    "3. print(t1) or calling t1 both show results\n",
    "4. when the record class is not working, calling stop() will trigger warning\n",
    "5. two recording methods: t1 + t2\n",
    "6. limited resources available"
   ]
  },
  {
   "cell_type": "raw",
   "metadata": {},
   "source": [
    "Breakdown:\n",
    "1. localtime in time module\n",
    "2. __str__ and __repr__"
   ]
  },
  {
   "cell_type": "code",
   "execution_count": 79,
   "metadata": {},
   "outputs": [],
   "source": [
    "# __str__ is called when class instance is called for printing\n",
    "class A():\n",
    "    def __str__(self):\n",
    "        return 'for printing display'"
   ]
  },
  {
   "cell_type": "code",
   "execution_count": 80,
   "metadata": {},
   "outputs": [
    {
     "name": "stdout",
     "output_type": "stream",
     "text": [
      "for printing display\n"
     ]
    }
   ],
   "source": [
    "a = A()\n",
    "print(a)"
   ]
  },
  {
   "cell_type": "code",
   "execution_count": 78,
   "metadata": {},
   "outputs": [],
   "source": [
    "#  __repr__ is called when class instance is the input \n",
    "class B():\n",
    "    def __repr__(self):\n",
    "        return 'for display'"
   ]
  },
  {
   "cell_type": "code",
   "execution_count": 81,
   "metadata": {},
   "outputs": [
    {
     "data": {
      "text/plain": [
       "for display"
      ]
     },
     "execution_count": 81,
     "metadata": {},
     "output_type": "execute_result"
    }
   ],
   "source": [
    "b = B()\n",
    "b"
   ]
  },
  {
   "cell_type": "markdown",
   "metadata": {},
   "source": [
    "MyTimer:"
   ]
  },
  {
   "cell_type": "code",
   "execution_count": 1,
   "metadata": {},
   "outputs": [],
   "source": [
    "import time as t"
   ]
  },
  {
   "cell_type": "code",
   "execution_count": 14,
   "metadata": {},
   "outputs": [],
   "source": [
    "class MyTimer():\n",
    "\n",
    "# names of attributes and methods cannot be the same\n",
    "    \n",
    "    def __init__(self):\n",
    "        self.unit = ['Y', 'M', 'D', 'H', 'M', 'S']\n",
    "        self.prompt = \"not start yet\"\n",
    "        self.lasted = []\n",
    "        self.begin = 0\n",
    "        self.end = 0\n",
    "    \n",
    "    def __str__(self):\n",
    "        return self.prompt\n",
    "\n",
    "    __repr__ = __str__\n",
    "    \n",
    "    \n",
    "    def __add__(self, other):\n",
    "        prompt = 'whole running time:'\n",
    "        result = []\n",
    "        for index in range(6):\n",
    "            result.append(self.lasted[index] + other.lasted[index])\n",
    "            if result[index]:\n",
    "                prompt += (str(result[index]) + self.unit[index])\n",
    "        return prompt\n",
    "    \n",
    "    \n",
    "    # start recording\n",
    "    def start(self):\n",
    "        self.begin = t.localtime()\n",
    "        self.prompt = 'warning: please call stop() first'\n",
    "        print(\"start recording...\")\n",
    "        \n",
    "    # stop recording\n",
    "    def stop(self):\n",
    "        if not self.begin:\n",
    "            print('warning: please call start() first')\n",
    "        else:    \n",
    "            self.end = t.localtime()\n",
    "            self.__calc()\n",
    "            print('stop recording...')\n",
    "        \n",
    "    # built-in method for time calculation\n",
    "    def __calc(self):\n",
    "        self.lasted = []\n",
    "        self.prompt = 'Whole time running: '\n",
    "        for index in range(6):\n",
    "            self.lasted.append(self.end[index] - self.begin[index])\n",
    "            if self.lasted[index]:\n",
    "                self.prompt += (str(self.lasted[index]) + self.unit[index])\n",
    "        # next-round recording\n",
    "        self.begin = 0\n",
    "        self.end = 0"
   ]
  },
  {
   "cell_type": "code",
   "execution_count": 15,
   "metadata": {},
   "outputs": [],
   "source": [
    "t1 = MyTimer()"
   ]
  },
  {
   "cell_type": "code",
   "execution_count": 16,
   "metadata": {},
   "outputs": [
    {
     "name": "stdout",
     "output_type": "stream",
     "text": [
      "warning: please call start() first\n"
     ]
    }
   ],
   "source": [
    "t1.stop()"
   ]
  },
  {
   "cell_type": "code",
   "execution_count": 17,
   "metadata": {},
   "outputs": [
    {
     "name": "stdout",
     "output_type": "stream",
     "text": [
      "start recording...\n"
     ]
    }
   ],
   "source": [
    "t1.start()"
   ]
  },
  {
   "cell_type": "code",
   "execution_count": 18,
   "metadata": {},
   "outputs": [
    {
     "data": {
      "text/plain": [
       "warning: please call stop() first"
      ]
     },
     "execution_count": 18,
     "metadata": {},
     "output_type": "execute_result"
    }
   ],
   "source": [
    "t1"
   ]
  },
  {
   "cell_type": "code",
   "execution_count": 19,
   "metadata": {},
   "outputs": [
    {
     "name": "stdout",
     "output_type": "stream",
     "text": [
      "stop recording...\n"
     ]
    }
   ],
   "source": [
    "t1.stop()"
   ]
  },
  {
   "cell_type": "code",
   "execution_count": 20,
   "metadata": {},
   "outputs": [
    {
     "data": {
      "text/plain": [
       "Whole time running: 1S"
      ]
     },
     "execution_count": 20,
     "metadata": {},
     "output_type": "execute_result"
    }
   ],
   "source": [
    "t1"
   ]
  },
  {
   "cell_type": "code",
   "execution_count": 22,
   "metadata": {},
   "outputs": [
    {
     "name": "stdout",
     "output_type": "stream",
     "text": [
      "start recording...\n"
     ]
    }
   ],
   "source": [
    "t2 = MyTimer()\n",
    "t2.start()"
   ]
  },
  {
   "cell_type": "code",
   "execution_count": 23,
   "metadata": {},
   "outputs": [
    {
     "name": "stdout",
     "output_type": "stream",
     "text": [
      "stop recording...\n"
     ]
    }
   ],
   "source": [
    "t2.stop()"
   ]
  },
  {
   "cell_type": "code",
   "execution_count": 24,
   "metadata": {},
   "outputs": [
    {
     "data": {
      "text/plain": [
       "Whole time running: 4S"
      ]
     },
     "execution_count": 24,
     "metadata": {},
     "output_type": "execute_result"
    }
   ],
   "source": [
    "t2"
   ]
  },
  {
   "cell_type": "code",
   "execution_count": 25,
   "metadata": {},
   "outputs": [
    {
     "data": {
      "text/plain": [
       "'whole running time:5S'"
      ]
     },
     "execution_count": 25,
     "metadata": {},
     "output_type": "execute_result"
    }
   ],
   "source": [
    "t1 + t2"
   ]
  },
  {
   "cell_type": "markdown",
   "metadata": {},
   "source": [
    "# Attributes"
   ]
  },
  {
   "cell_type": "code",
   "execution_count": 26,
   "metadata": {},
   "outputs": [],
   "source": [
    "class C:\n",
    "    def __init__(self):\n",
    "        self.x = 'X-man'"
   ]
  },
  {
   "cell_type": "code",
   "execution_count": 27,
   "metadata": {},
   "outputs": [],
   "source": [
    "c = C()"
   ]
  },
  {
   "cell_type": "code",
   "execution_count": 28,
   "metadata": {},
   "outputs": [
    {
     "data": {
      "text/plain": [
       "'X-man'"
      ]
     },
     "execution_count": 28,
     "metadata": {},
     "output_type": "execute_result"
    }
   ],
   "source": [
    "c.x"
   ]
  },
  {
   "cell_type": "code",
   "execution_count": 29,
   "metadata": {},
   "outputs": [
    {
     "data": {
      "text/plain": [
       "'X-man'"
      ]
     },
     "execution_count": 29,
     "metadata": {},
     "output_type": "execute_result"
    }
   ],
   "source": [
    "getattr(c, 'x', 'non-exist')"
   ]
  },
  {
   "cell_type": "code",
   "execution_count": 30,
   "metadata": {},
   "outputs": [
    {
     "data": {
      "text/plain": [
       "'non-exist'"
      ]
     },
     "execution_count": 30,
     "metadata": {},
     "output_type": "execute_result"
    }
   ],
   "source": [
    "getattr(c, 'y', 'non-exist')"
   ]
  },
  {
   "cell_type": "code",
   "execution_count": 34,
   "metadata": {},
   "outputs": [],
   "source": [
    "# use property to fetch attributes in class\n",
    "\n",
    "class C:\n",
    "    def __init__(self, size=10):\n",
    "        self.size = size\n",
    "    def getSize(size):\n",
    "        return self.size\n",
    "    def setSize(self, value):\n",
    "        self.size = value\n",
    "    def delSize(size):\n",
    "        del self.size\n",
    "    x = property(getSize, setSize, delSize)"
   ]
  },
  {
   "cell_type": "code",
   "execution_count": 35,
   "metadata": {},
   "outputs": [],
   "source": [
    "c = C()"
   ]
  },
  {
   "cell_type": "code",
   "execution_count": 36,
   "metadata": {},
   "outputs": [],
   "source": [
    "# use x to represent size in class C\n",
    "c.x = 1"
   ]
  },
  {
   "cell_type": "code",
   "execution_count": 37,
   "metadata": {},
   "outputs": [
    {
     "data": {
      "text/plain": [
       "1"
      ]
     },
     "execution_count": 37,
     "metadata": {},
     "output_type": "execute_result"
    }
   ],
   "source": [
    "c.size"
   ]
  },
  {
   "cell_type": "raw",
   "metadata": {},
   "source": [
    "Magic Method for ATTRIBUTES:\n",
    "\n",
    "1. __getattr__(self, name)\n",
    "\n",
    "   Called when the default attribute access fails with an AttributeError (either __getattribute__() raises an AttributeError because name is not an instance attribute or an attribute in the class tree for self; or __get__() of a name property raises AttributeError). This method should either return the (computed) attribute value or raise an AttributeError exception.\n",
    "   \n",
    "2. __getattributes__(self, name)\n",
    "\n",
    "    Called unconditionally to implement attribute accesses for instances of the class. If the class also defines __getattr__(), the latter will not be called unless __getattribute__() either calls it explicitly or raises an AttributeError. This method should return the (computed) attribute value or raise an AttributeError exception. In order to avoid infinite recursion in this method, its implementation should always call the base class method with the same name to access any attributes it needs, for example, object.__getattribute__(self, name).\n",
    "    \n",
    "    \n",
    "3. __setattr__(self, name, value)\n",
    "\n",
    "    Called when an attribute assignment is attempted. This is called instead of the normal mechanism (i.e. store the value in the instance dictionary). name is the attribute name, value is the value to be assigned to it.\n",
    "\n",
    "If __setattr__() wants to assign to an instance attribute, it should call the base class method with the same name, for example, object.__setattr__(self, name, value).\n",
    "\n",
    "4. __delattr__(self, name)\n",
    "    \n",
    "    Like __setattr__() but for attribute deletion instead of assignment. This should only be implemented if del obj.name is meaningful for the object."
   ]
  },
  {
   "cell_type": "code",
   "execution_count": 7,
   "metadata": {},
   "outputs": [],
   "source": [
    "class C:\n",
    "    def __getattribute__(self, name):\n",
    "        print('getattribute')\n",
    "        return super().__getattribute__(name)\n",
    "    \n",
    "    def __getattr__(self, name):\n",
    "        print('getattr')\n",
    "        \n",
    "    def __setattr__(self, name, value):\n",
    "        print('setattr')\n",
    "        return super().__setattr__(name, value)\n",
    "    \n",
    "    def __delattr__(self, name):\n",
    "        print('delattr')\n",
    "        super().__delattr__(name)"
   ]
  },
  {
   "cell_type": "code",
   "execution_count": 8,
   "metadata": {},
   "outputs": [
    {
     "name": "stdout",
     "output_type": "stream",
     "text": [
      "getattribute\n",
      "getattr\n"
     ]
    }
   ],
   "source": [
    "c = C()\n",
    "c.x"
   ]
  },
  {
   "cell_type": "code",
   "execution_count": 9,
   "metadata": {},
   "outputs": [
    {
     "name": "stdout",
     "output_type": "stream",
     "text": [
      "setattr\n"
     ]
    }
   ],
   "source": [
    "c.x = 1"
   ]
  },
  {
   "cell_type": "code",
   "execution_count": 10,
   "metadata": {},
   "outputs": [
    {
     "name": "stdout",
     "output_type": "stream",
     "text": [
      "getattribute\n"
     ]
    },
    {
     "data": {
      "text/plain": [
       "1"
      ]
     },
     "execution_count": 10,
     "metadata": {},
     "output_type": "execute_result"
    }
   ],
   "source": [
    "c.x"
   ]
  },
  {
   "cell_type": "code",
   "execution_count": 11,
   "metadata": {},
   "outputs": [
    {
     "name": "stdout",
     "output_type": "stream",
     "text": [
      "delattr\n"
     ]
    }
   ],
   "source": [
    "del c.x"
   ]
  },
  {
   "cell_type": "code",
   "execution_count": 16,
   "metadata": {},
   "outputs": [],
   "source": [
    "# Dead Loop Risk\n",
    "# Exercise: Rectangle\n",
    "class Rectangle:\n",
    "    def __init__(self, width=0, height=0):\n",
    "        self.width = width\n",
    "        self.height = height\n",
    "        # these two lines will call __setattr__\n",
    "        \n",
    "    def __setattr__(self, name, value):\n",
    "        if name == 'square':\n",
    "            self.width = value\n",
    "            self.height = value\n",
    "        else:\n",
    "            # solution 1:\n",
    "            # the method of base class needs to be called\n",
    "            super().__setattr__(name, value)\n",
    "            \n",
    "            # solution 2:\n",
    "            # self.__dict__[name] = value\n",
    "    \n",
    "    def getArea(self):\n",
    "        return self.width * self.height"
   ]
  },
  {
   "cell_type": "code",
   "execution_count": 17,
   "metadata": {},
   "outputs": [],
   "source": [
    "r1 = Rectangle(4, 5)"
   ]
  },
  {
   "cell_type": "code",
   "execution_count": 18,
   "metadata": {},
   "outputs": [
    {
     "data": {
      "text/plain": [
       "20"
      ]
     },
     "execution_count": 18,
     "metadata": {},
     "output_type": "execute_result"
    }
   ],
   "source": [
    "r1.getArea()"
   ]
  },
  {
   "cell_type": "code",
   "execution_count": 19,
   "metadata": {},
   "outputs": [],
   "source": [
    "r1.square = 10"
   ]
  },
  {
   "cell_type": "code",
   "execution_count": 20,
   "metadata": {},
   "outputs": [
    {
     "data": {
      "text/plain": [
       "10"
      ]
     },
     "execution_count": 20,
     "metadata": {},
     "output_type": "execute_result"
    }
   ],
   "source": [
    "r1.height"
   ]
  },
  {
   "cell_type": "code",
   "execution_count": 21,
   "metadata": {},
   "outputs": [
    {
     "data": {
      "text/plain": [
       "100"
      ]
     },
     "execution_count": 21,
     "metadata": {},
     "output_type": "execute_result"
    }
   ],
   "source": [
    "r1.getArea()"
   ]
  },
  {
   "cell_type": "code",
   "execution_count": 23,
   "metadata": {},
   "outputs": [
    {
     "data": {
      "text/plain": [
       "{'width': 10, 'height': 10}"
      ]
     },
     "execution_count": 23,
     "metadata": {},
     "output_type": "execute_result"
    }
   ],
   "source": [
    "r1.__dict__"
   ]
  },
  {
   "cell_type": "markdown",
   "metadata": {},
   "source": [
    "__Property__ Function"
   ]
  },
  {
   "cell_type": "markdown",
   "metadata": {},
   "source": [
    "Descriptor:\n",
    "\n",
    "assign __the real instance of a special class__ as __the attribute of another class__"
   ]
  },
  {
   "cell_type": "raw",
   "metadata": {},
   "source": [
    "Special Case with the following methods:\n",
    "\n",
    "1. __get__(self, instance, owner)\n",
    "\n",
    "2. __set__(self, instance, value)\n",
    "\n",
    "3. __delete__(self, instance)"
   ]
  },
  {
   "cell_type": "code",
   "execution_count": 1,
   "metadata": {},
   "outputs": [],
   "source": [
    "class MyDescriptor:\n",
    "    def __get__(self, instance, owner):\n",
    "        print('getting...', self, instance, owner)\n",
    "    \n",
    "    def __set__(self, instance, value):\n",
    "        print('setting... ', self, instance, value)\n",
    "        \n",
    "    def __delete__(self, instance):\n",
    "        print('deleting...', self, instance)"
   ]
  },
  {
   "cell_type": "code",
   "execution_count": 2,
   "metadata": {},
   "outputs": [],
   "source": [
    "class Test:\n",
    "    x = MyDescriptor()"
   ]
  },
  {
   "cell_type": "code",
   "execution_count": 3,
   "metadata": {},
   "outputs": [],
   "source": [
    "test = Test()"
   ]
  },
  {
   "cell_type": "code",
   "execution_count": 4,
   "metadata": {},
   "outputs": [
    {
     "name": "stdout",
     "output_type": "stream",
     "text": [
      "getting... <__main__.MyDescriptor object at 0x1078e9908> <__main__.Test object at 0x1078f44e0> <class '__main__.Test'>\n"
     ]
    }
   ],
   "source": [
    "test.x"
   ]
  },
  {
   "cell_type": "code",
   "execution_count": 5,
   "metadata": {},
   "outputs": [
    {
     "data": {
      "text/plain": [
       "<__main__.Test at 0x1078f44e0>"
      ]
     },
     "execution_count": 5,
     "metadata": {},
     "output_type": "execute_result"
    }
   ],
   "source": [
    "test"
   ]
  },
  {
   "cell_type": "code",
   "execution_count": 6,
   "metadata": {},
   "outputs": [
    {
     "data": {
      "text/plain": [
       "__main__.Test"
      ]
     },
     "execution_count": 6,
     "metadata": {},
     "output_type": "execute_result"
    }
   ],
   "source": [
    "Test"
   ]
  },
  {
   "cell_type": "code",
   "execution_count": 7,
   "metadata": {},
   "outputs": [
    {
     "name": "stdout",
     "output_type": "stream",
     "text": [
      "setting...  <__main__.MyDescriptor object at 0x1078e9908> <__main__.Test object at 0x1078f44e0> x-Man\n"
     ]
    }
   ],
   "source": [
    "test.x = 'x-Man'"
   ]
  },
  {
   "cell_type": "code",
   "execution_count": 8,
   "metadata": {},
   "outputs": [
    {
     "name": "stdout",
     "output_type": "stream",
     "text": [
      "deleting... <__main__.MyDescriptor object at 0x1078e9908> <__main__.Test object at 0x1078f44e0>\n"
     ]
    }
   ],
   "source": [
    "del test.x"
   ]
  },
  {
   "cell_type": "code",
   "execution_count": 15,
   "metadata": {},
   "outputs": [],
   "source": [
    "class MyProperty:\n",
    "    def __init__(self, fget=None, fset=None, fdel=None):\n",
    "        self.fget = fget\n",
    "        self.fset = fset\n",
    "        self.fdel = fdel\n",
    "        \n",
    "    def __get__(self, instance, owner):\n",
    "        return self.fget(instance)\n",
    "    \n",
    "    def __set__(self, instance, value):\n",
    "        self.fset(instance, value)\n",
    "        \n",
    "    def __delete__(self, instance):\n",
    "        self.fdel(instance)"
   ]
  },
  {
   "cell_type": "code",
   "execution_count": 16,
   "metadata": {},
   "outputs": [],
   "source": [
    "class C:\n",
    "    def __init__(self):\n",
    "        self._x = None\n",
    "    \n",
    "    def getX(self):\n",
    "        return self._x\n",
    "\n",
    "    def setX(self, value):\n",
    "        self._x = value\n",
    "    \n",
    "    def delX(self):\n",
    "        del self._x\n",
    "    \n",
    "    x = MyProperty(getX, setX, delX)"
   ]
  },
  {
   "cell_type": "code",
   "execution_count": 17,
   "metadata": {},
   "outputs": [],
   "source": [
    "c = C()\n",
    "c.x = 'x-man'"
   ]
  },
  {
   "cell_type": "code",
   "execution_count": 18,
   "metadata": {},
   "outputs": [
    {
     "data": {
      "text/plain": [
       "'x-man'"
      ]
     },
     "execution_count": 18,
     "metadata": {},
     "output_type": "execute_result"
    }
   ],
   "source": [
    "c._x"
   ]
  },
  {
   "cell_type": "code",
   "execution_count": 19,
   "metadata": {},
   "outputs": [],
   "source": [
    "del c.x"
   ]
  },
  {
   "cell_type": "code",
   "execution_count": 21,
   "metadata": {},
   "outputs": [],
   "source": [
    "# Practice\n",
    "\n",
    "# define a class for temperature from C to K\n",
    "# the two attributes can be converted automatically"
   ]
  },
  {
   "cell_type": "code",
   "execution_count": 37,
   "metadata": {},
   "outputs": [],
   "source": [
    "class Celsic:\n",
    "    def __init__(self, value = 26.0):\n",
    "        self.value = float(value)\n",
    "    \n",
    "    def __get__(self, instance, owner): \n",
    "        return self.value\n",
    "        \n",
    "    def __set__(self, instance, value):\n",
    "        self.value = float(value)\n",
    "        \n",
    "class Fahrenheit:\n",
    "    def __get__(self, instance, owner):\n",
    "        # self: this class\n",
    "        # instance: the real instance which the current class belongs\n",
    "        return instance.cel * 1.8 + 32\n",
    "    \n",
    "    def __set__(self, instance, value):\n",
    "        instance.cel = (float(value) - 32)/1.8\n",
    "    \n",
    "class Temperature:\n",
    "    cel = Celsic()\n",
    "    fah = Fahrenheit()"
   ]
  },
  {
   "cell_type": "code",
   "execution_count": 38,
   "metadata": {},
   "outputs": [],
   "source": [
    "temp = Temperature()"
   ]
  },
  {
   "cell_type": "code",
   "execution_count": 39,
   "metadata": {},
   "outputs": [
    {
     "data": {
      "text/plain": [
       "26.0"
      ]
     },
     "execution_count": 39,
     "metadata": {},
     "output_type": "execute_result"
    }
   ],
   "source": [
    "temp.cel"
   ]
  },
  {
   "cell_type": "code",
   "execution_count": 40,
   "metadata": {},
   "outputs": [],
   "source": [
    "temp.cel = 30"
   ]
  },
  {
   "cell_type": "code",
   "execution_count": 41,
   "metadata": {},
   "outputs": [
    {
     "data": {
      "text/plain": [
       "86.0"
      ]
     },
     "execution_count": 41,
     "metadata": {},
     "output_type": "execute_result"
    }
   ],
   "source": [
    "temp.fah"
   ]
  },
  {
   "cell_type": "code",
   "execution_count": 42,
   "metadata": {},
   "outputs": [],
   "source": [
    "temp.fah = 100"
   ]
  },
  {
   "cell_type": "code",
   "execution_count": 43,
   "metadata": {},
   "outputs": [
    {
     "data": {
      "text/plain": [
       "37.77777777777778"
      ]
     },
     "execution_count": 43,
     "metadata": {},
     "output_type": "execute_result"
    }
   ],
   "source": [
    "temp.cel"
   ]
  },
  {
   "cell_type": "markdown",
   "metadata": {},
   "source": [
    "__Customise SEQUENCE__"
   ]
  },
  {
   "cell_type": "raw",
   "metadata": {},
   "source": [
    "protocol"
   ]
  },
  {
   "cell_type": "raw",
   "metadata": {},
   "source": [
    "immutable sequence: \n",
    "    __len__(self)\n",
    "    __getitem__(self, key)\n",
    "    \n",
    "mutable sequence:\n",
    "    __len__(self)\n",
    "    __getitem__(self, key)\n",
    "    __setitem__(self, key, value)\n",
    "    __delitem__(self, key)\n",
    "\n",
    "other:\n",
    "    __iter__(self)\n",
    "    __reversed__(self)\n",
    "    __contains__(self, item)"
   ]
  },
  {
   "cell_type": "code",
   "execution_count": 79,
   "metadata": {},
   "outputs": [],
   "source": [
    "# define a customised list\n",
    "# 1. immutable\n",
    "# 2. calculate how many times each element is touched\n",
    "\n",
    "class CList:    \n",
    "    def __init__(self, *args):\n",
    "        self.values = [x for x in args]\n",
    "        self.count = {}.fromkeys(range(len(self.values)), 0)\n",
    "    \n",
    "    def __len__(self):\n",
    "        return len(self.values)\n",
    "    \n",
    "    def __getitem__(self, key):\n",
    "        self.count[key] += 1\n",
    "        return self.values[key]"
   ]
  },
  {
   "cell_type": "code",
   "execution_count": 80,
   "metadata": {},
   "outputs": [],
   "source": [
    "x = CList(1,2,3,4,5,5,6,7,7)"
   ]
  },
  {
   "cell_type": "code",
   "execution_count": 81,
   "metadata": {},
   "outputs": [
    {
     "data": {
      "text/plain": [
       "2"
      ]
     },
     "execution_count": 81,
     "metadata": {},
     "output_type": "execute_result"
    }
   ],
   "source": [
    "x[1]"
   ]
  },
  {
   "cell_type": "code",
   "execution_count": 82,
   "metadata": {},
   "outputs": [
    {
     "data": {
      "text/plain": [
       "{0: 0, 1: 1, 2: 0, 3: 0, 4: 0, 5: 0, 6: 0, 7: 0, 8: 0}"
      ]
     },
     "execution_count": 82,
     "metadata": {},
     "output_type": "execute_result"
    }
   ],
   "source": [
    "x.count"
   ]
  },
  {
   "cell_type": "markdown",
   "metadata": {},
   "source": [
    "# Iterator"
   ]
  },
  {
   "cell_type": "code",
   "execution_count": 84,
   "metadata": {},
   "outputs": [
    {
     "name": "stdout",
     "output_type": "stream",
     "text": [
      "F\n",
      "i\n",
      "s\n",
      "h\n",
      "C\n"
     ]
    }
   ],
   "source": [
    "# example:\n",
    "# for is used to trigger each element in this Iterator\n",
    "for i in 'FishC':\n",
    "    print(i)"
   ]
  },
  {
   "cell_type": "raw",
   "metadata": {},
   "source": [
    "iterator: list, dict, string\n",
    "BIF: iter(), next()"
   ]
  },
  {
   "cell_type": "code",
   "execution_count": 85,
   "metadata": {},
   "outputs": [],
   "source": [
    "string = \"FishC\"\n",
    "it = iter(string)"
   ]
  },
  {
   "cell_type": "code",
   "execution_count": 86,
   "metadata": {},
   "outputs": [
    {
     "data": {
      "text/plain": [
       "'F'"
      ]
     },
     "execution_count": 86,
     "metadata": {},
     "output_type": "execute_result"
    }
   ],
   "source": [
    "next(it)"
   ]
  },
  {
   "cell_type": "code",
   "execution_count": 87,
   "metadata": {},
   "outputs": [
    {
     "data": {
      "text/plain": [
       "'i'"
      ]
     },
     "execution_count": 87,
     "metadata": {},
     "output_type": "execute_result"
    }
   ],
   "source": [
    "next(it)"
   ]
  },
  {
   "cell_type": "raw",
   "metadata": {},
   "source": [
    "Magic Method:\n",
    "\n",
    "iter():\n",
    "__iter__()\n",
    "\n",
    "next():\n",
    "__next__()"
   ]
  },
  {
   "cell_type": "code",
   "execution_count": 91,
   "metadata": {},
   "outputs": [],
   "source": [
    "# define an iterator\n",
    "class Fibs:\n",
    "    def __init__(self, n=20):\n",
    "        self.a = 0\n",
    "        self.b = 1\n",
    "        self.n = n\n",
    "        \n",
    "    def __iter__(self):\n",
    "        return self\n",
    "    \n",
    "    def __next__(self):\n",
    "        self.a, self.b = self.b, self.a + self.b\n",
    "        if self.a > self.n:\n",
    "            raise StopIteration\n",
    "        else:\n",
    "            return self.a"
   ]
  },
  {
   "cell_type": "code",
   "execution_count": 92,
   "metadata": {},
   "outputs": [],
   "source": [
    "fibs = Fibs()"
   ]
  },
  {
   "cell_type": "code",
   "execution_count": 93,
   "metadata": {},
   "outputs": [
    {
     "name": "stdout",
     "output_type": "stream",
     "text": [
      "1\n",
      "1\n",
      "2\n",
      "3\n",
      "5\n",
      "8\n",
      "13\n"
     ]
    }
   ],
   "source": [
    "for each in fibs:\n",
    "    if each < 100:\n",
    "        print(each)\n",
    "    else:\n",
    "        break"
   ]
  },
  {
   "cell_type": "code",
   "execution_count": 94,
   "metadata": {},
   "outputs": [
    {
     "name": "stdout",
     "output_type": "stream",
     "text": [
      "1\n",
      "1\n",
      "2\n",
      "3\n",
      "5\n",
      "8\n",
      "13\n",
      "21\n",
      "34\n"
     ]
    }
   ],
   "source": [
    "fibs = Fibs(50)\n",
    "for each in fibs:\n",
    "    print(each)"
   ]
  },
  {
   "cell_type": "markdown",
   "metadata": {},
   "source": [
    "# Generator"
   ]
  },
  {
   "cell_type": "code",
   "execution_count": 95,
   "metadata": {},
   "outputs": [],
   "source": [
    "def myGen():\n",
    "    print('generator executing!')\n",
    "    yield 1\n",
    "    yield 2"
   ]
  },
  {
   "cell_type": "code",
   "execution_count": 97,
   "metadata": {},
   "outputs": [],
   "source": [
    "myG = myGen()"
   ]
  },
  {
   "cell_type": "code",
   "execution_count": 98,
   "metadata": {},
   "outputs": [
    {
     "name": "stdout",
     "output_type": "stream",
     "text": [
      "generator executing!\n"
     ]
    },
    {
     "data": {
      "text/plain": [
       "1"
      ]
     },
     "execution_count": 98,
     "metadata": {},
     "output_type": "execute_result"
    }
   ],
   "source": [
    "next(myG)"
   ]
  },
  {
   "cell_type": "code",
   "execution_count": 99,
   "metadata": {},
   "outputs": [
    {
     "data": {
      "text/plain": [
       "2"
      ]
     },
     "execution_count": 99,
     "metadata": {},
     "output_type": "execute_result"
    }
   ],
   "source": [
    "next(myG)"
   ]
  },
  {
   "cell_type": "code",
   "execution_count": 100,
   "metadata": {},
   "outputs": [
    {
     "ename": "StopIteration",
     "evalue": "",
     "output_type": "error",
     "traceback": [
      "\u001b[0;31m---------------------------------------------------------------------------\u001b[0m",
      "\u001b[0;31mStopIteration\u001b[0m                             Traceback (most recent call last)",
      "\u001b[0;32m<ipython-input-100-e52b3adc9479>\u001b[0m in \u001b[0;36m<module>\u001b[0;34m\u001b[0m\n\u001b[0;32m----> 1\u001b[0;31m \u001b[0mnext\u001b[0m\u001b[0;34m(\u001b[0m\u001b[0mmyG\u001b[0m\u001b[0;34m)\u001b[0m\u001b[0;34m\u001b[0m\u001b[0;34m\u001b[0m\u001b[0m\n\u001b[0m",
      "\u001b[0;31mStopIteration\u001b[0m: "
     ]
    }
   ],
   "source": [
    "next(myG)"
   ]
  },
  {
   "cell_type": "code",
   "execution_count": 102,
   "metadata": {},
   "outputs": [
    {
     "name": "stdout",
     "output_type": "stream",
     "text": [
      "generator executing!\n",
      "1\n",
      "2\n"
     ]
    }
   ],
   "source": [
    "for i in myGen():\n",
    "    print(i)"
   ]
  },
  {
   "cell_type": "code",
   "execution_count": 103,
   "metadata": {},
   "outputs": [],
   "source": [
    "def libs():\n",
    "    a = 0\n",
    "    b = 1\n",
    "    while True:\n",
    "        a, b = b, a+b\n",
    "        yield a"
   ]
  },
  {
   "cell_type": "code",
   "execution_count": 105,
   "metadata": {},
   "outputs": [
    {
     "name": "stdout",
     "output_type": "stream",
     "text": [
      "1 1 2 3 5 8 13 21 34 55 89 "
     ]
    }
   ],
   "source": [
    "for each in libs():\n",
    "    if each > 100:\n",
    "        break\n",
    "    print(each, end = ' ')"
   ]
  },
  {
   "cell_type": "code",
   "execution_count": 106,
   "metadata": {},
   "outputs": [],
   "source": [
    "a = [i for i in range(100) if not (i%2) and i%3]"
   ]
  },
  {
   "cell_type": "code",
   "execution_count": 107,
   "metadata": {
    "collapsed": true
   },
   "outputs": [
    {
     "data": {
      "text/plain": [
       "[2,\n",
       " 4,\n",
       " 8,\n",
       " 10,\n",
       " 14,\n",
       " 16,\n",
       " 20,\n",
       " 22,\n",
       " 26,\n",
       " 28,\n",
       " 32,\n",
       " 34,\n",
       " 38,\n",
       " 40,\n",
       " 44,\n",
       " 46,\n",
       " 50,\n",
       " 52,\n",
       " 56,\n",
       " 58,\n",
       " 62,\n",
       " 64,\n",
       " 68,\n",
       " 70,\n",
       " 74,\n",
       " 76,\n",
       " 80,\n",
       " 82,\n",
       " 86,\n",
       " 88,\n",
       " 92,\n",
       " 94,\n",
       " 98]"
      ]
     },
     "execution_count": 107,
     "metadata": {},
     "output_type": "execute_result"
    }
   ],
   "source": [
    "a"
   ]
  },
  {
   "cell_type": "code",
   "execution_count": 108,
   "metadata": {},
   "outputs": [],
   "source": [
    "b = {i:i%2 == 0 for i in range(10)}"
   ]
  },
  {
   "cell_type": "code",
   "execution_count": 109,
   "metadata": {},
   "outputs": [
    {
     "data": {
      "text/plain": [
       "{0: True,\n",
       " 1: False,\n",
       " 2: True,\n",
       " 3: False,\n",
       " 4: True,\n",
       " 5: False,\n",
       " 6: True,\n",
       " 7: False,\n",
       " 8: True,\n",
       " 9: False}"
      ]
     },
     "execution_count": 109,
     "metadata": {},
     "output_type": "execute_result"
    }
   ],
   "source": [
    "b"
   ]
  },
  {
   "cell_type": "code",
   "execution_count": 110,
   "metadata": {},
   "outputs": [],
   "source": [
    "c = {i for i in [1, 1, 2, 3, 4, 5, 6, 5]}"
   ]
  },
  {
   "cell_type": "code",
   "execution_count": 111,
   "metadata": {},
   "outputs": [
    {
     "data": {
      "text/plain": [
       "{1, 2, 3, 4, 5, 6}"
      ]
     },
     "execution_count": 111,
     "metadata": {},
     "output_type": "execute_result"
    }
   ],
   "source": [
    "c"
   ]
  },
  {
   "cell_type": "code",
   "execution_count": 112,
   "metadata": {},
   "outputs": [],
   "source": [
    "d = \"i for i in 'I love code'\""
   ]
  },
  {
   "cell_type": "code",
   "execution_count": 113,
   "metadata": {},
   "outputs": [
    {
     "data": {
      "text/plain": [
       "\"i for i in 'I love code'\""
      ]
     },
     "execution_count": 113,
     "metadata": {},
     "output_type": "execute_result"
    }
   ],
   "source": [
    "d"
   ]
  },
  {
   "cell_type": "code",
   "execution_count": 114,
   "metadata": {},
   "outputs": [],
   "source": [
    "e = (i for i in range(10))"
   ]
  },
  {
   "cell_type": "code",
   "execution_count": 115,
   "metadata": {},
   "outputs": [
    {
     "data": {
      "text/plain": [
       "<generator object <genexpr> at 0x107e95a20>"
      ]
     },
     "execution_count": 115,
     "metadata": {},
     "output_type": "execute_result"
    }
   ],
   "source": [
    "e"
   ]
  },
  {
   "cell_type": "code",
   "execution_count": 116,
   "metadata": {},
   "outputs": [
    {
     "data": {
      "text/plain": [
       "0"
      ]
     },
     "execution_count": 116,
     "metadata": {},
     "output_type": "execute_result"
    }
   ],
   "source": [
    "next(e)"
   ]
  },
  {
   "cell_type": "code",
   "execution_count": 117,
   "metadata": {},
   "outputs": [
    {
     "data": {
      "text/plain": [
       "45"
      ]
     },
     "execution_count": 117,
     "metadata": {},
     "output_type": "execute_result"
    }
   ],
   "source": [
    "sum(range(10))"
   ]
  },
  {
   "cell_type": "markdown",
   "metadata": {},
   "source": [
    "# Module"
   ]
  },
  {
   "cell_type": "raw",
   "metadata": {},
   "source": [
    "Container: for data\n",
    "Function: for semantic language/logic\n",
    "Class: for attributes and methods\n",
    "\n",
    "Module: any .py file"
   ]
  },
  {
   "cell_type": "raw",
   "metadata": {},
   "source": [
    "import module_name\n",
    "\n",
    "from module_name import function_name\n",
    "\n",
    "import module_name as new_name"
   ]
  },
  {
   "cell_type": "markdown",
   "metadata": {},
   "source": [
    "# Copy"
   ]
  },
  {
   "cell_type": "markdown",
   "metadata": {},
   "source": [
    "deepcopy\n",
    "\n",
    "shallowcopy [:]"
   ]
  },
  {
   "cell_type": "raw",
   "metadata": {},
   "source": [
    "'__name__'"
   ]
  },
  {
   "cell_type": "code",
   "execution_count": 119,
   "metadata": {},
   "outputs": [
    {
     "data": {
      "text/plain": [
       "'__main__'"
      ]
     },
     "execution_count": 119,
     "metadata": {},
     "output_type": "execute_result"
    }
   ],
   "source": [
    "__name__"
   ]
  },
  {
   "cell_type": "markdown",
   "metadata": {},
   "source": [
    "module.__name__: module_name\n",
    "\n",
    "__name__ is used to identify which script is the main one"
   ]
  },
  {
   "cell_type": "code",
   "execution_count": 120,
   "metadata": {},
   "outputs": [],
   "source": [
    "def c2f(cel):\n",
    "    fah = cel*1.8 + 32\n",
    "\n",
    "def f2c(fah):\n",
    "    cel = (fah-32)/1.8\n",
    "    \n",
    "def test():\n",
    "    print('0C = {} F'.format(c2f(0)))"
   ]
  },
  {
   "cell_type": "raw",
   "metadata": {},
   "source": [
    "search path (system path)"
   ]
  },
  {
   "cell_type": "code",
   "execution_count": 121,
   "metadata": {},
   "outputs": [
    {
     "data": {
      "text/plain": [
       "['/Users/robertwan/Github/python3_object_oriented',\n",
       " '/usr/local/Cellar/python/3.7.2/Frameworks/Python.framework/Versions/3.7/lib/python37.zip',\n",
       " '/usr/local/Cellar/python/3.7.2/Frameworks/Python.framework/Versions/3.7/lib/python3.7',\n",
       " '/usr/local/Cellar/python/3.7.2/Frameworks/Python.framework/Versions/3.7/lib/python3.7/lib-dynload',\n",
       " '',\n",
       " '/usr/local/lib/python3.7/site-packages',\n",
       " '/usr/local/lib/python3.7/site-packages/IPython/extensions',\n",
       " '/Users/robertwan/.ipython']"
      ]
     },
     "execution_count": 121,
     "metadata": {},
     "output_type": "execute_result"
    }
   ],
   "source": [
    "import sys\n",
    "sys.path"
   ]
  },
  {
   "cell_type": "markdown",
   "metadata": {},
   "source": [
    "package"
   ]
  },
  {
   "cell_type": "raw",
   "metadata": {},
   "source": [
    "1. create a folder with the name of the package\n",
    "\n",
    "2. create a __init__.py in that folder"
   ]
  },
  {
   "cell_type": "markdown",
   "metadata": {},
   "source": [
    "# Pythonic"
   ]
  },
  {
   "cell_type": "raw",
   "metadata": {},
   "source": [
    "How to understand Python standard modules\n",
    "\n",
    "1. Python Documentation\n"
   ]
  },
  {
   "cell_type": "code",
   "execution_count": 123,
   "metadata": {},
   "outputs": [],
   "source": [
    "import timeit"
   ]
  },
  {
   "cell_type": "code",
   "execution_count": 124,
   "metadata": {},
   "outputs": [
    {
     "data": {
      "text/plain": [
       "\"Tool for measuring execution time of small code snippets.\\n\\nThis module avoids a number of common traps for measuring execution\\ntimes.  See also Tim Peters' introduction to the Algorithms chapter in\\nthe Python Cookbook, published by O'Reilly.\\n\\nLibrary usage: see the Timer class.\\n\\nCommand line usage:\\n    python timeit.py [-n N] [-r N] [-s S] [-p] [-h] [--] [statement]\\n\\nOptions:\\n  -n/--number N: how many times to execute 'statement' (default: see below)\\n  -r/--repeat N: how many times to repeat the timer (default 5)\\n  -s/--setup S: statement to be executed once initially (default 'pass').\\n                Execution time of this setup statement is NOT timed.\\n  -p/--process: use time.process_time() (default is time.perf_counter())\\n  -v/--verbose: print raw timing results; repeat for more digits precision\\n  -u/--unit: set the output time unit (nsec, usec, msec, or sec)\\n  -h/--help: print this usage message and exit\\n  --: separate options from statement, use when statement starts with -\\n  statement: statement to be timed (default 'pass')\\n\\nA multi-line statement may be given by specifying each line as a\\nseparate argument; indented lines are possible by enclosing an\\nargument in quotes and using leading spaces.  Multiple -s options are\\ntreated similarly.\\n\\nIf -n is not given, a suitable number of loops is calculated by trying\\nsuccessive powers of 10 until the total time is at least 0.2 seconds.\\n\\nNote: there is a certain baseline overhead associated with executing a\\npass statement.  It differs between versions.  The code here doesn't try\\nto hide it, but you should be aware of it.  The baseline overhead can be\\nmeasured by invoking the program without arguments.\\n\\nClasses:\\n\\n    Timer\\n\\nFunctions:\\n\\n    timeit(string, string) -> float\\n    repeat(string, string) -> list\\n    default_timer() -> float\\n\\n\""
      ]
     },
     "execution_count": 124,
     "metadata": {},
     "output_type": "execute_result"
    }
   ],
   "source": [
    "timeit.__doc__"
   ]
  },
  {
   "cell_type": "code",
   "execution_count": 125,
   "metadata": {},
   "outputs": [
    {
     "name": "stdout",
     "output_type": "stream",
     "text": [
      "Tool for measuring execution time of small code snippets.\n",
      "\n",
      "This module avoids a number of common traps for measuring execution\n",
      "times.  See also Tim Peters' introduction to the Algorithms chapter in\n",
      "the Python Cookbook, published by O'Reilly.\n",
      "\n",
      "Library usage: see the Timer class.\n",
      "\n",
      "Command line usage:\n",
      "    python timeit.py [-n N] [-r N] [-s S] [-p] [-h] [--] [statement]\n",
      "\n",
      "Options:\n",
      "  -n/--number N: how many times to execute 'statement' (default: see below)\n",
      "  -r/--repeat N: how many times to repeat the timer (default 5)\n",
      "  -s/--setup S: statement to be executed once initially (default 'pass').\n",
      "                Execution time of this setup statement is NOT timed.\n",
      "  -p/--process: use time.process_time() (default is time.perf_counter())\n",
      "  -v/--verbose: print raw timing results; repeat for more digits precision\n",
      "  -u/--unit: set the output time unit (nsec, usec, msec, or sec)\n",
      "  -h/--help: print this usage message and exit\n",
      "  --: separate options from statement, use when statement starts with -\n",
      "  statement: statement to be timed (default 'pass')\n",
      "\n",
      "A multi-line statement may be given by specifying each line as a\n",
      "separate argument; indented lines are possible by enclosing an\n",
      "argument in quotes and using leading spaces.  Multiple -s options are\n",
      "treated similarly.\n",
      "\n",
      "If -n is not given, a suitable number of loops is calculated by trying\n",
      "successive powers of 10 until the total time is at least 0.2 seconds.\n",
      "\n",
      "Note: there is a certain baseline overhead associated with executing a\n",
      "pass statement.  It differs between versions.  The code here doesn't try\n",
      "to hide it, but you should be aware of it.  The baseline overhead can be\n",
      "measured by invoking the program without arguments.\n",
      "\n",
      "Classes:\n",
      "\n",
      "    Timer\n",
      "\n",
      "Functions:\n",
      "\n",
      "    timeit(string, string) -> float\n",
      "    repeat(string, string) -> list\n",
      "    default_timer() -> float\n",
      "\n",
      "\n"
     ]
    }
   ],
   "source": [
    "print(timeit.__doc__)"
   ]
  },
  {
   "cell_type": "code",
   "execution_count": 126,
   "metadata": {},
   "outputs": [
    {
     "data": {
      "text/plain": [
       "['Timer',\n",
       " '__all__',\n",
       " '__builtins__',\n",
       " '__cached__',\n",
       " '__doc__',\n",
       " '__file__',\n",
       " '__loader__',\n",
       " '__name__',\n",
       " '__package__',\n",
       " '__spec__',\n",
       " '_globals',\n",
       " 'default_number',\n",
       " 'default_repeat',\n",
       " 'default_timer',\n",
       " 'dummy_src_name',\n",
       " 'gc',\n",
       " 'itertools',\n",
       " 'main',\n",
       " 'reindent',\n",
       " 'repeat',\n",
       " 'sys',\n",
       " 'template',\n",
       " 'time',\n",
       " 'timeit']"
      ]
     },
     "execution_count": 126,
     "metadata": {},
     "output_type": "execute_result"
    }
   ],
   "source": [
    "dir(timeit)"
   ]
  },
  {
   "cell_type": "code",
   "execution_count": 127,
   "metadata": {},
   "outputs": [
    {
     "data": {
      "text/plain": [
       "['Timer', 'timeit', 'repeat', 'default_timer']"
      ]
     },
     "execution_count": 127,
     "metadata": {},
     "output_type": "execute_result"
    }
   ],
   "source": [
    "timeit.__all__"
   ]
  },
  {
   "cell_type": "raw",
   "metadata": {},
   "source": [
    "'from timeit import *' is importing the functions in __all__ list./"
   ]
  },
  {
   "cell_type": "code",
   "execution_count": 128,
   "metadata": {},
   "outputs": [
    {
     "data": {
      "text/plain": [
       "'/usr/local/Cellar/python/3.7.2/Frameworks/Python.framework/Versions/3.7/lib/python3.7/timeit.py'"
      ]
     },
     "execution_count": 128,
     "metadata": {},
     "output_type": "execute_result"
    }
   ],
   "source": [
    "# source code file position\n",
    "timeit.__file__"
   ]
  },
  {
   "cell_type": "markdown",
   "metadata": {},
   "source": [
    "help(timeit)"
   ]
  },
  {
   "cell_type": "markdown",
   "metadata": {},
   "source": [
    "# Python Crawler / Web Spider"
   ]
  },
  {
   "cell_type": "markdown",
   "metadata": {},
   "source": [
    "1. Python: fetch Internet"
   ]
  },
  {
   "cell_type": "markdown",
   "metadata": {},
   "source": [
    "URL: \n",
    "\n",
    "protocol: /hostname[:port] / path / [;parameters][?query]#fragment "
   ]
  },
  {
   "cell_type": "markdown",
   "metadata": {},
   "source": [
    "protocol: http, https, ftp, file, ed2k...."
   ]
  },
  {
   "cell_type": "raw",
   "metadata": {},
   "source": [
    "Python package: urllib"
   ]
  },
  {
   "cell_type": "markdown",
   "metadata": {},
   "source": [
    "urllib.request.urlopen(url, *args...)"
   ]
  },
  {
   "cell_type": "code",
   "execution_count": 132,
   "metadata": {},
   "outputs": [],
   "source": [
    "import urllib.request"
   ]
  },
  {
   "cell_type": "code",
   "execution_count": 133,
   "metadata": {},
   "outputs": [],
   "source": [
    "response = urllib.request.urlopen('http://www.fishc.com')"
   ]
  },
  {
   "cell_type": "code",
   "execution_count": 134,
   "metadata": {
    "scrolled": true
   },
   "outputs": [
    {
     "data": {
      "text/plain": [
       "b'<!DOCTYPE html>\\n<html lang=\"en\">\\n<head>\\n    <meta charset=\"UTF-8\">\\n    <meta name=\"viewport\" content=\"width=device-width, initial-scale=1.0\">\\n    <meta name=\"keywords\" content=\"\\xe9\\xb1\\xbcC\\xe5\\xb7\\xa5\\xe4\\xbd\\x9c\\xe5\\xae\\xa4|\\xe5\\x85\\x8d\\xe8\\xb4\\xb9\\xe7\\xbc\\x96\\xe7\\xa8\\x8b\\xe8\\xa7\\x86\\xe9\\xa2\\x91\\xe6\\x95\\x99\\xe5\\xad\\xa6|Python\\xe6\\x95\\x99\\xe5\\xad\\xa6|Web\\xe5\\xbc\\x80\\xe5\\x8f\\x91\\xe6\\x95\\x99\\xe5\\xad\\xa6|\\xe5\\x85\\xa8\\xe6\\xa0\\x88\\xe5\\xbc\\x80\\xe5\\x8f\\x91\\xe6\\x95\\x99\\xe5\\xad\\xa6|C\\xe8\\xaf\\xad\\xe8\\xa8\\x80\\xe6\\x95\\x99\\xe5\\xad\\xa6|\\xe6\\xb1\\x87\\xe7\\xbc\\x96\\xe6\\x95\\x99\\xe5\\xad\\xa6|Win32\\xe5\\xbc\\x80\\xe5\\x8f\\x91|\\xe5\\x8a\\xa0\\xe5\\xaf\\x86\\xe4\\xb8\\x8e\\xe8\\xa7\\xa3\\xe5\\xaf\\x86|Linux\\xe6\\x95\\x99\\xe5\\xad\\xa6\">\\n    <meta name=\"description\" content=\"\\xe9\\xb1\\xbcC\\xe5\\xb7\\xa5\\xe4\\xbd\\x9c\\xe5\\xae\\xa4\\xe4\\xb8\\xba\\xe5\\xa4\\xa7\\xe5\\xae\\xb6\\xe6\\x8f\\x90\\xe4\\xbe\\x9b\\xe6\\x9c\\x80\\xe6\\x9c\\x89\\xe8\\xb6\\xa3\\xe7\\x9a\\x84\\xe7\\xbc\\x96\\xe7\\xa8\\x8b\\xe8\\xa7\\x86\\xe9\\xa2\\x91\\xe6\\x95\\x99\\xe5\\xad\\xa6\\xe3\\x80\\x82\">\\n    <meta name=\"author\" content=\"\\xe9\\xb1\\xbcC\\xe5\\xb7\\xa5\\xe4\\xbd\\x9c\\xe5\\xae\\xa4\">\\n    <title>\\xe9\\xb1\\xbcC\\xe5\\xb7\\xa5\\xe4\\xbd\\x9c\\xe5\\xae\\xa4-\\xe5\\x85\\x8d\\xe8\\xb4\\xb9\\xe7\\xbc\\x96\\xe7\\xa8\\x8b\\xe8\\xa7\\x86\\xe9\\xa2\\x91\\xe6\\x95\\x99\\xe5\\xad\\xa6|Python\\xe6\\x95\\x99\\xe5\\xad\\xa6|Web\\xe5\\xbc\\x80\\xe5\\x8f\\x91\\xe6\\x95\\x99\\xe5\\xad\\xa6|\\xe5\\x85\\xa8\\xe6\\xa0\\x88\\xe5\\xbc\\x80\\xe5\\x8f\\x91\\xe6\\x95\\x99\\xe5\\xad\\xa6|C\\xe8\\xaf\\xad\\xe8\\xa8\\x80\\xe6\\x95\\x99\\xe5\\xad\\xa6|\\xe6\\xb1\\x87\\xe7\\xbc\\x96\\xe6\\x95\\x99\\xe5\\xad\\xa6|Win32\\xe5\\xbc\\x80\\xe5\\x8f\\x91|\\xe5\\x8a\\xa0\\xe5\\xaf\\x86\\xe4\\xb8\\x8e\\xe8\\xa7\\xa3\\xe5\\xaf\\x86|Linux\\xe6\\x95\\x99\\xe5\\xad\\xa6</title>\\n    <link rel=\"shortcut icon\" type=\"image/x-icon\" href=\"img/favicon.ico\">\\n    <link rel=\"stylesheet\" href=\"css/styles.css\">\\n    <!-- <link rel=\"stylesheet\" href=\"css/timeline.css\"> -->\\n    <script src=\"js/jq.js\"></script>\\n    <script src=\"js/fishcEgg.js\"></script>\\n    <script>\\n        $(document).ready(function() {\\n            var windowHeight = document.documentElement.clientHeight || document.body.clientHeight;\\n\\n            createStoryJS({\\n                type:       \\'timeline\\',\\n                width:      \\'auto\\',\\n                height:     windowHeight,\\n                source:     \\'data.json\\',\\n                start_at_end:true,                          //OPTIONAL START AT LATEST DATE\\n                embed_id:   \\'my-timeline\\'\\n            });\\n\\n            // \\xe6\\xb5\\x8f\\xe8\\xa7\\x88\\xe5\\x99\\xa8\\xe5\\x88\\xa4\\xe6\\x96\\xad\\xef\\xbc\\x8c\\xe5\\xa6\\x82\\xe6\\x9e\\x9c\\xe6\\x98\\xafIE\\xe5\\xbc\\xb9\\xe5\\x87\\xba\\xe6\\x8f\\x90\\xe7\\xa4\\xba\\xe6\\xa1\\x86\\n            function getExplore(){\\n                var Sys = {};\\n                var ua = navigator.userAgent.toLowerCase();\\n                var s;\\n                (s = ua.match(/rv:([\\\\d.]+)\\\\) like gecko/)) ? Sys.ie = s[1] :\\n                    (s = ua.match(/msie ([\\\\d\\\\.]+)/)) ? Sys.ie = s[1] :\\n                        (s = ua.match(/edge\\\\/([\\\\d\\\\.]+)/)) ? Sys.edge = s[1] :\\n                            (s = ua.match(/firefox\\\\/([\\\\d\\\\.]+)/)) ? Sys.firefox = s[1] :\\n                                (s = ua.match(/(?:opera|opr).([\\\\d\\\\.]+)/)) ? Sys.opera = s[1] :\\n                                    (s = ua.match(/chrome\\\\/([\\\\d\\\\.]+)/)) ? Sys.chrome = s[1] :\\n                                        (s = ua.match(/version\\\\/([\\\\d\\\\.]+).*safari/)) ? Sys.safari = s[1] : 0;\\n                // \\xe6\\xa0\\xb9\\xe6\\x8d\\xae\\xe5\\x85\\xb3\\xe7\\xb3\\xbb\\xe8\\xbf\\x9b\\xe8\\xa1\\x8c\\xe5\\x88\\xa4\\xe6\\x96\\xad\\n                if (Sys.ie) alert(\\'\\xe8\\xaf\\xb7\\xe4\\xbd\\xbf\\xe7\\x94\\xa8\\xe9\\x9d\\x9eIE\\xe6\\xb5\\x8f\\xe8\\xa7\\x88\\xe5\\x99\\xa8\\xe6\\x89\\x93\\xe5\\xbc\\x80\\xe6\\x9c\\xac\\xe4\\xb8\\xbb\\xe9\\xa1\\xb5\\');\\n\\n            }\\n            getExplore();\\n\\n        });\\n    </script>\\n    <!-- <script src=\"js/timeline-min.js\"></script>\\n    <script src=\"js/embed.js\"></script> -->\\n    <!-- <script src=\"https://cdn.bootcss.com/timelinejs/2.36.0/js/storyjs-embed.js\"></script> -->\\n    <script src=\"https://cdnjs.cloudflare.com/ajax/libs/timelinejs/2.36.0/js/storyjs-embed.js\"></script>\\n    <!-- END TimelineJS -->\\n</head>\\n<body>\\n<div id=\"my-timeline\"></div>\\n</body>\\n</html>'"
      ]
     },
     "execution_count": 134,
     "metadata": {},
     "output_type": "execute_result"
    }
   ],
   "source": [
    "html = response.read()\n",
    "# binary data\n",
    "html"
   ]
  },
  {
   "cell_type": "code",
   "execution_count": 135,
   "metadata": {
    "scrolled": true
   },
   "outputs": [
    {
     "data": {
      "text/plain": [
       "'<!DOCTYPE html>\\n<html lang=\"en\">\\n<head>\\n    <meta charset=\"UTF-8\">\\n    <meta name=\"viewport\" content=\"width=device-width, initial-scale=1.0\">\\n    <meta name=\"keywords\" content=\"鱼C工作室|免费编程视频教学|Python教学|Web开发教学|全栈开发教学|C语言教学|汇编教学|Win32开发|加密与解密|Linux教学\">\\n    <meta name=\"description\" content=\"鱼C工作室为大家提供最有趣的编程视频教学。\">\\n    <meta name=\"author\" content=\"鱼C工作室\">\\n    <title>鱼C工作室-免费编程视频教学|Python教学|Web开发教学|全栈开发教学|C语言教学|汇编教学|Win32开发|加密与解密|Linux教学</title>\\n    <link rel=\"shortcut icon\" type=\"image/x-icon\" href=\"img/favicon.ico\">\\n    <link rel=\"stylesheet\" href=\"css/styles.css\">\\n    <!-- <link rel=\"stylesheet\" href=\"css/timeline.css\"> -->\\n    <script src=\"js/jq.js\"></script>\\n    <script src=\"js/fishcEgg.js\"></script>\\n    <script>\\n        $(document).ready(function() {\\n            var windowHeight = document.documentElement.clientHeight || document.body.clientHeight;\\n\\n            createStoryJS({\\n                type:       \\'timeline\\',\\n                width:      \\'auto\\',\\n                height:     windowHeight,\\n                source:     \\'data.json\\',\\n                start_at_end:true,                          //OPTIONAL START AT LATEST DATE\\n                embed_id:   \\'my-timeline\\'\\n            });\\n\\n            // 浏览器判断，如果是IE弹出提示框\\n            function getExplore(){\\n                var Sys = {};\\n                var ua = navigator.userAgent.toLowerCase();\\n                var s;\\n                (s = ua.match(/rv:([\\\\d.]+)\\\\) like gecko/)) ? Sys.ie = s[1] :\\n                    (s = ua.match(/msie ([\\\\d\\\\.]+)/)) ? Sys.ie = s[1] :\\n                        (s = ua.match(/edge\\\\/([\\\\d\\\\.]+)/)) ? Sys.edge = s[1] :\\n                            (s = ua.match(/firefox\\\\/([\\\\d\\\\.]+)/)) ? Sys.firefox = s[1] :\\n                                (s = ua.match(/(?:opera|opr).([\\\\d\\\\.]+)/)) ? Sys.opera = s[1] :\\n                                    (s = ua.match(/chrome\\\\/([\\\\d\\\\.]+)/)) ? Sys.chrome = s[1] :\\n                                        (s = ua.match(/version\\\\/([\\\\d\\\\.]+).*safari/)) ? Sys.safari = s[1] : 0;\\n                // 根据关系进行判断\\n                if (Sys.ie) alert(\\'请使用非IE浏览器打开本主页\\');\\n\\n            }\\n            getExplore();\\n\\n        });\\n    </script>\\n    <!-- <script src=\"js/timeline-min.js\"></script>\\n    <script src=\"js/embed.js\"></script> -->\\n    <!-- <script src=\"https://cdn.bootcss.com/timelinejs/2.36.0/js/storyjs-embed.js\"></script> -->\\n    <script src=\"https://cdnjs.cloudflare.com/ajax/libs/timelinejs/2.36.0/js/storyjs-embed.js\"></script>\\n    <!-- END TimelineJS -->\\n</head>\\n<body>\\n<div id=\"my-timeline\"></div>\\n</body>\\n</html>'"
      ]
     },
     "execution_count": 135,
     "metadata": {},
     "output_type": "execute_result"
    }
   ],
   "source": [
    "html = html.decode(\"utf-8\")\n",
    "html"
   ]
  },
  {
   "cell_type": "markdown",
   "metadata": {},
   "source": [
    "# Example 1: Download a Cat: placekitten.com"
   ]
  },
  {
   "cell_type": "code",
   "execution_count": 136,
   "metadata": {},
   "outputs": [],
   "source": [
    "import urllib.request\n",
    "\n",
    "response = urllib.request.urlopen('http://placekitten.com/g/500/600')\n",
    "cat_img = response.read()\n",
    "with open('cat_500_600.jpg', 'wb') as f:\n",
    "    f.write(cat_img)"
   ]
  },
  {
   "cell_type": "code",
   "execution_count": 137,
   "metadata": {},
   "outputs": [
    {
     "data": {
      "text/plain": [
       "'http://placekitten.com/g/500/600'"
      ]
     },
     "execution_count": 137,
     "metadata": {},
     "output_type": "execute_result"
    }
   ],
   "source": [
    "import urllib.request\n",
    "\n",
    "req = urllib.request.Request('http://placekitten.com/g/500/600')\n",
    "response = urllib.request.urlopen(req)\n",
    "response.geturl()"
   ]
  },
  {
   "cell_type": "code",
   "execution_count": 139,
   "metadata": {},
   "outputs": [
    {
     "name": "stdout",
     "output_type": "stream",
     "text": [
      "Date: Thu, 28 Mar 2019 12:08:22 GMT\n",
      "Content-Type: image/jpeg\n",
      "Content-Length: 27650\n",
      "Connection: close\n",
      "Set-Cookie: __cfduid=dcdb560907b8db1fe62869aa7cef85fa71553774902; expires=Fri, 27-Mar-20 12:08:22 GMT; path=/; domain=.placekitten.com; HttpOnly\n",
      "Access-Control-Allow-Origin: *\n",
      "Cache-Control: public, max-age=86400\n",
      "Expires: Fri, 29 Mar 2019 12:08:22 GMT\n",
      "CF-Cache-Status: HIT\n",
      "Accept-Ranges: bytes\n",
      "Vary: Accept-Encoding\n",
      "Server: cloudflare\n",
      "CF-RAY: 4be97d377dcda5d8-NRT\n",
      "\n",
      "\n"
     ]
    }
   ],
   "source": [
    "print(response.info())"
   ]
  },
  {
   "cell_type": "code",
   "execution_count": 140,
   "metadata": {},
   "outputs": [
    {
     "data": {
      "text/plain": [
       "200"
      ]
     },
     "execution_count": 140,
     "metadata": {},
     "output_type": "execute_result"
    }
   ],
   "source": [
    "response.getcode()"
   ]
  },
  {
   "cell_type": "markdown",
   "metadata": {},
   "source": [
    "# Example 2: Youdao Translation"
   ]
  },
  {
   "cell_type": "code",
   "execution_count": 181,
   "metadata": {},
   "outputs": [],
   "source": [
    "import urllib.parse\n",
    "\n",
    "url = 'http://fanyi.youdao.com/translate?smartresult=dict&smartresult=rule'\n",
    "\n",
    "data = {}\n",
    "data['i'] = 'I love being great' \n",
    "data['from'] = 'AUTO'\n",
    "data['to'] = 'AUTO'\n",
    "data['smartresult'] = 'dict'\n",
    "data['client'] = 'fanyideskweb'\n",
    "data['salt'] = '15537751261296'\n",
    "data['sign'] = 'dcafe8944840b3f17fa3c17c0b3ddbbe'\n",
    "data['ts'] = '1553775126129'\n",
    "data['bv'] = '533f9b76f2d3fa34628b3cd7d7dddf96'\n",
    "data['doctype'] = 'json'\n",
    "data['version'] = '2.1'\n",
    "data['keyfrom'] = 'fanyi.web'\n",
    "data['action'] = 'FY_BY_REALTlME'\n",
    "data['typoResult'] = 'false'\n",
    "\n",
    "data = urllib.parse.urlencode(data).encode()\n",
    "req = urllib.request.Request(url)\n",
    "response = urllib.request.urlopen(url, data)\n"
   ]
  },
  {
   "cell_type": "code",
   "execution_count": 182,
   "metadata": {},
   "outputs": [
    {
     "name": "stdout",
     "output_type": "stream",
     "text": [
      "                          {\"type\":\"EN2ZH_CN\",\"errorCode\":0,\"elapsedTime\":1,\"translateResult\":[[{\"src\":\"I love being great\",\"tgt\":\"我喜欢做大\"}]]}\n",
      "\n"
     ]
    }
   ],
   "source": [
    "html = response.read().decode()\n",
    "print(html)"
   ]
  },
  {
   "cell_type": "code",
   "execution_count": 183,
   "metadata": {},
   "outputs": [
    {
     "data": {
      "text/plain": [
       "'http://fanyi.youdao.com/translate?smartresult=dict&smartresult=rule'"
      ]
     },
     "execution_count": 183,
     "metadata": {},
     "output_type": "execute_result"
    }
   ],
   "source": [
    "response.geturl()"
   ]
  },
  {
   "cell_type": "code",
   "execution_count": 180,
   "metadata": {},
   "outputs": [
    {
     "name": "stdout",
     "output_type": "stream",
     "text": [
      "Server: Tengine\n",
      "Date: Thu, 28 Mar 2019 12:53:56 GMT\n",
      "Content-Type: application/json;charset=utf-8\n",
      "Transfer-Encoding: chunked\n",
      "Connection: close\n",
      "Vary: Accept-Encoding\n",
      "Vary: Accept-Encoding\n",
      "Content-Language: en-US\n",
      "Set-Cookie: OUTFOX_SEARCH_USER_ID=1450854287@119.147.183.51; domain=.youdao.com; expires=Sat, 20-Mar-2049 12:53:55 GMT\n",
      "\n",
      "\n"
     ]
    }
   ],
   "source": [
    "print(response.info())"
   ]
  },
  {
   "cell_type": "code",
   "execution_count": 185,
   "metadata": {},
   "outputs": [
    {
     "name": "stdout",
     "output_type": "stream",
     "text": [
      "{'type': 'EN2ZH_CN', 'errorCode': 0, 'elapsedTime': 1, 'translateResult': [[{'src': 'I love being great', 'tgt': '我喜欢做大'}]]}\n"
     ]
    }
   ],
   "source": [
    "import json\n",
    "target = json.loads(html)\n",
    "print(target)"
   ]
  },
  {
   "cell_type": "markdown",
   "metadata": {},
   "source": [
    "# Example 2.1 Hiding"
   ]
  },
  {
   "cell_type": "markdown",
   "metadata": {},
   "source": [
    "Headers: User-Agent"
   ]
  },
  {
   "cell_type": "code",
   "execution_count": 193,
   "metadata": {},
   "outputs": [],
   "source": [
    "import urllib.parse\n",
    "\n",
    "url = 'http://fanyi.youdao.com/translate?smartresult=dict&smartresult=rule'\n",
    "\n",
    "'''\n",
    "head = {}\n",
    "head['User-Agent'] = 'Mozilla/5.0 (Macintosh; Intel Mac OS X 10_12_5) AppleWebKit/537.36 (KHTML, like Gecko) Chrome/72.0.3626.119 Safari/537.36'\n",
    "'''\n",
    "\n",
    "data = {}\n",
    "data['i'] = 'I love being great' \n",
    "data['from'] = 'AUTO'\n",
    "data['to'] = 'AUTO'\n",
    "data['smartresult'] = 'dict'\n",
    "data['client'] = 'fanyideskweb'\n",
    "data['salt'] = '15537751261296'\n",
    "data['sign'] = 'dcafe8944840b3f17fa3c17c0b3ddbbe'\n",
    "data['ts'] = '1553775126129'\n",
    "data['bv'] = '533f9b76f2d3fa34628b3cd7d7dddf96'\n",
    "data['doctype'] = 'json'\n",
    "data['version'] = '2.1'\n",
    "data['keyfrom'] = 'fanyi.web'\n",
    "data['action'] = 'FY_BY_REALTlME'\n",
    "data['typoResult'] = 'false'\n",
    "\n",
    "data = urllib.parse.urlencode(data).encode('utf-8')\n",
    "\n",
    "req = urllib.request.Request(url, data)\n",
    "# req = urllib.request.Request(url, data, head)\n",
    "req.add_header('User-Agent', 'Mozilla/5.0 (Macintosh; Intel Mac OS X 10_12_5) AppleWebKit/537.36 (KHTML, like Gecko) Chrome/72.0.3626.119 Safari/537.36')\n",
    "response = urllib.request.urlopen(req)\n",
    "html = response.read().decode('utf-8')\n"
   ]
  },
  {
   "cell_type": "code",
   "execution_count": 194,
   "metadata": {},
   "outputs": [
    {
     "data": {
      "text/plain": [
       "{'User-agent': 'Mozilla/5.0 (Macintosh; Intel Mac OS X 10_12_5) AppleWebKit/537.36 (KHTML, like Gecko) Chrome/72.0.3626.119 Safari/537.36'}"
      ]
     },
     "execution_count": 194,
     "metadata": {},
     "output_type": "execute_result"
    }
   ],
   "source": [
    "req.headers"
   ]
  },
  {
   "cell_type": "markdown",
   "metadata": {},
   "source": [
    "Make an Eclipsed Time for crawling"
   ]
  },
  {
   "cell_type": "code",
   "execution_count": 196,
   "metadata": {},
   "outputs": [],
   "source": [
    "import time\n",
    "time.sleep(5)"
   ]
  },
  {
   "cell_type": "markdown",
   "metadata": {},
   "source": [
    "Proxy"
   ]
  },
  {
   "cell_type": "code",
   "execution_count": null,
   "metadata": {},
   "outputs": [],
   "source": []
  }
 ],
 "metadata": {
  "kernelspec": {
   "display_name": "Python 3",
   "language": "python",
   "name": "python3"
  },
  "language_info": {
   "codemirror_mode": {
    "name": "ipython",
    "version": 3
   },
   "file_extension": ".py",
   "mimetype": "text/x-python",
   "name": "python",
   "nbconvert_exporter": "python",
   "pygments_lexer": "ipython3",
   "version": "3.7.2"
  }
 },
 "nbformat": 4,
 "nbformat_minor": 2
}
