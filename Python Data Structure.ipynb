{
 "cells": [
  {
   "cell_type": "markdown",
   "metadata": {},
   "source": [
    "# Linear Data Structure"
   ]
  },
  {
   "cell_type": "markdown",
   "metadata": {},
   "source": [
    "1. Nodes in Python"
   ]
  },
  {
   "cell_type": "code",
   "execution_count": 3,
   "metadata": {},
   "outputs": [],
   "source": [
    "class Node:\n",
    "    def __init__(self, value, link_node=None):\n",
    "        self.value = value\n",
    "        self.link_node = link_node\n",
    "  # Define your get_value and get_link_node methods below:\n",
    "    def get_value(self):\n",
    "        return self.value\n",
    "\n",
    "    def get_link_node(self):\n",
    "        return self.link_node\n",
    "    \n",
    "    def set_link_node(self, link_node):\n",
    "        self.link_node = link_node"
   ]
  },
  {
   "cell_type": "code",
   "execution_count": 5,
   "metadata": {},
   "outputs": [
    {
     "name": "stdout",
     "output_type": "stream",
     "text": [
      "enjoys spending time in movie lots\n",
      "has a penchant for hoarding snacks\n"
     ]
    }
   ],
   "source": [
    "yacko = Node(\"likes to yak\")\n",
    "wacko = Node(\"has a penchant for hoarding snacks\")\n",
    "dot = Node(\"enjoys spending time in movie lots\")\n",
    "\n",
    "yacko.set_link_node(dot) \n",
    "dot.set_link_node(wacko)\n",
    "\n",
    "dots_data = yacko.get_link_node().get_value()\n",
    "wackos_data = dot.get_link_node().get_value()\n",
    "print(dots_data)\n",
    "print(wackos_data)"
   ]
  },
  {
   "cell_type": "markdown",
   "metadata": {},
   "source": [
    "# Linked List"
   ]
  },
  {
   "cell_type": "code",
   "execution_count": 11,
   "metadata": {},
   "outputs": [
    {
     "name": "stdout",
     "output_type": "stream",
     "text": [
      "90\n",
      "5675\n",
      "70\n",
      "70\n",
      "5\n",
      "\n"
     ]
    }
   ],
   "source": [
    "# We'll be using our Node class\n",
    "class Node:\n",
    "    def __init__(self, value, next_node=None):\n",
    "        self.value = value\n",
    "        self.next_node = next_node\n",
    "    \n",
    "    def get_value(self):\n",
    "        return self.value\n",
    "  \n",
    "    def get_next_node(self):\n",
    "        return self.next_node\n",
    "  \n",
    "    def set_next_node(self, next_node):\n",
    "        self.next_node = next_node\n",
    "\n",
    "# Our LinkedList class\n",
    "class LinkedList:\n",
    "    def __init__(self, value=None):\n",
    "        self.head_node = Node(value)\n",
    "  \n",
    "    def get_head_node(self):\n",
    "        return self.head_node\n",
    "  \n",
    "  # Add your insert_beginning and stringify_list methods below:\n",
    "  \n",
    "    def insert_beginning(self, new_value):\n",
    "        new_node = Node(new_value)\n",
    "        new_node.set_next_node(self.head_node)\n",
    "        self.head_node = new_node\n",
    "    \n",
    "    def stringify_list(self):\n",
    "        string_list = \"\"\n",
    "        current_node = self.get_head_node()\n",
    "        while current_node:\n",
    "            if current_node.get_value() != None:\n",
    "                string_list += str(current_node.get_value()) + \"\\n\"\n",
    "                current_node = current_node.get_next_node()\n",
    "        return string_list\n",
    "\n",
    "    def remove_node(self, value_to_remove):\n",
    "        if self.head_node.get_value() == value_to_remove:\n",
    "            self.head_node = self.head_node.get_next_node()\n",
    "            return\n",
    "        else:\n",
    "            current_node = self.get_head_node()\n",
    "            current_next_node = current_node.get_next_node()\n",
    "            while current_node:\n",
    "                next_node = current_node.get_next_node()\n",
    "                if value_to_remove == next_node.get_value():\n",
    "                    current_node.set_next_node(next_node.get_next_node())\n",
    "                    current_node = None\n",
    "                else:\n",
    "                    current_node = next_node\n",
    "    \n",
    "    def remove_all_node(self, value_to_remove):\n",
    "        if self.head_node.get_value() == value_to_remove:\n",
    "            self.head_node = self.head_node.get_next_node()\n",
    "        else:\n",
    "            current_node = self.get_head_node()\n",
    "            next_node = current_node.get_next_node()\n",
    "\n",
    "            while current_node and next_node:\n",
    "#                 print(current_node.get_value())\n",
    "#                 print(next_node.get_value())                \n",
    "#                 next_node = current_node.get_next_node()\n",
    "                if next_node.get_value() == value_to_remove:\n",
    "                    current_node.set_next_node(next_node.get_next_node())\n",
    "                    next_node = next_node.get_next_node()\n",
    "                else:\n",
    "                    current_node = next_node\n",
    "                    next_node = next_node.get_next_node()\n",
    "\n",
    "# Test your code by uncommenting the statements below - did your list print to the terminal?\n",
    "ll = LinkedList(5)\n",
    "ll.insert_beginning(70)\n",
    "ll.insert_beginning(70)\n",
    "ll.insert_beginning(5675)\n",
    "ll.insert_beginning(90)\n",
    "print(ll.stringify_list())"
   ]
  },
  {
   "cell_type": "markdown",
   "metadata": {},
   "source": [
    "# Stack "
   ]
  },
  {
   "cell_type": "code",
   "execution_count": 17,
   "metadata": {},
   "outputs": [],
   "source": [
    "# from node import Node\n",
    "\n",
    "class Stack:\n",
    "    def __init__(self, limit=1000):\n",
    "        self.top_item = None\n",
    "        self.limit = limit\n",
    "        self.size = 0\n",
    "  \n",
    "    def push(self, value):\n",
    "        item = Node(value)\n",
    "        item.set_next_node(self.top_item)\n",
    "        self.top_item = item\n",
    "\n",
    "    def pop(self):\n",
    "        if self.size > 0:\n",
    "              item_to_remove = self.top_item\n",
    "              self.top_item = item_to_remove.get_next_node()\n",
    "              # Decrement the stack size here:\n",
    "              self.size -= 1\n",
    "              return item_to_remove.get_value()\n",
    "        else:\n",
    "              print(\"This stack is totally empty.\")\n",
    "  \n",
    "    def peek(self):\n",
    "        if self.size > 0:\n",
    "              return self.top_item.get_value()\n",
    "        else:\n",
    "              print(\"Nothing to see here!\")"
   ]
  },
  {
   "cell_type": "markdown",
   "metadata": {},
   "source": [
    "# Heap Queue"
   ]
  },
  {
   "cell_type": "raw",
   "metadata": {},
   "source": [
    "Function List:\n",
    "\n",
    "heapq.heappush(heap, item)\n",
    "Push the value item onto the heap, maintaining the heap invariant.\n",
    "\n",
    "heapq.heappop(heap)\n",
    "Pop and return the smallest item from the heap, maintaining the heap invariant. If the heap is empty, IndexError is raised.\n",
    "\n",
    "heapq.heappushpop(heap, item)\n",
    "Push item on the heap, then pop and return the smallest item from the heap. The combined action runs more efficiently than heappush() followed by a separate call to heappop().\n",
    "\n",
    "heapq.heapify(x)\n",
    "Transform list x into a heap, in-place, in linear time.\n",
    "\n",
    "heapq.heapreplace(heap, item)\n",
    "Pop and return the smallest item from the heap, and also push the new item. The heap size doesn’t change. If the heap is empty, IndexError is raised. This is more efficient than heappop() followed by heappush(), and can be more appropriate when using a fixed-size heap. Note that the value returned may be larger than item! That constrains reasonable uses of this routine unless written as part of a conditional replacement:\n",
    "\n",
    "if item > heap[0]:\n",
    "    item = heapreplace(heap, item)"
   ]
  },
  {
   "cell_type": "code",
   "execution_count": 1,
   "metadata": {},
   "outputs": [],
   "source": [
    "# Example 1"
   ]
  },
  {
   "cell_type": "code",
   "execution_count": 2,
   "metadata": {},
   "outputs": [],
   "source": [
    "from heapq import heappush, heappop\n",
    "heap = []\n",
    "data = [1,3,5,7,9,2,4]"
   ]
  },
  {
   "cell_type": "code",
   "execution_count": 3,
   "metadata": {},
   "outputs": [
    {
     "name": "stdout",
     "output_type": "stream",
     "text": [
      "[1, 3, 2, 7, 9, 5, 4]\n"
     ]
    }
   ],
   "source": [
    "for item in data:\n",
    "    heappush(heap, item)\n",
    "print(heap)"
   ]
  },
  {
   "cell_type": "code",
   "execution_count": 4,
   "metadata": {},
   "outputs": [
    {
     "data": {
      "text/plain": [
       "7"
      ]
     },
     "execution_count": 4,
     "metadata": {},
     "output_type": "execute_result"
    }
   ],
   "source": [
    "len(heap)"
   ]
  },
  {
   "cell_type": "code",
   "execution_count": 20,
   "metadata": {},
   "outputs": [
    {
     "name": "stdout",
     "output_type": "stream",
     "text": [
      "[1, 2, 3, 4, 5, 7, 9]\n"
     ]
    }
   ],
   "source": [
    "ordered = []\n",
    "while heap:\n",
    "    ordered.append(heappop(heap))\n",
    "print(ordered)"
   ]
  },
  {
   "cell_type": "code",
   "execution_count": 22,
   "metadata": {},
   "outputs": [],
   "source": [
    "# Example 2"
   ]
  },
  {
   "cell_type": "code",
   "execution_count": 26,
   "metadata": {},
   "outputs": [
    {
     "name": "stdout",
     "output_type": "stream",
     "text": [
      "J\n",
      "H\n",
      "N\n",
      "O\n"
     ]
    }
   ],
   "source": [
    "heap = []\n",
    "# data = [(1, 'J'), (4, 'N'), (3, 'H'), (2, 'O')]\n",
    "data = [(1, 'J'), (5, 'N'), (3, 'H'), (6, 'O')]\n",
    "for item in data:\n",
    "    heappush(heap, item) # based on item[0]\n",
    "while heap:\n",
    "    print(heappop(heap)[1])"
   ]
  },
  {
   "cell_type": "raw",
   "metadata": {},
   "source": [
    "# General functions\n",
    "\n",
    "heapq.merge(*iterables)\n",
    "\n",
    "Merge multiple sorted inputs into a single sorted output (for example, merge timestamped entries from multiple log files). Returns an iterator over the sorted values.\n",
    "\n",
    "Similar to sorted(itertools.chain(*iterables)) but returns an iterable, does not pull the data into memory all at once, and assumes that each of the input streams is already sorted (smallest to largest).\n",
    "\n",
    "heapq.nlargest(n, iterable[, key])\n",
    "\n",
    "Return a list with the n largest elements from the dataset defined by iterable. key, if provided, specifies a function of one argument that is used to extract a comparison key from each element in the iterable: key=str.lower Equivalent to: sorted(iterable, key=key, reverse=True)[:n]\n",
    "\n",
    "heapq.nsmallest(n, iterable[, key])\n",
    "\n",
    "Return a list with the n smallest elements from the dataset defined by iterable. key, if provided, specifies a function of one argument that is used to extract a comparison key from each element in the iterable: key=str.lower Equivalent to: sorted(iterable, key=key)[:n]\n",
    "The latter two functions perform best for smaller values of n. For larger values, it is more efficient to use the sorted() function. Also, when n==1, it is more efficient to use the builtin min() and max() functions."
   ]
  },
  {
   "cell_type": "code",
   "execution_count": 27,
   "metadata": {},
   "outputs": [],
   "source": [
    "# Default is min-heap\n",
    "# This is the max-heap"
   ]
  },
  {
   "cell_type": "code",
   "execution_count": 32,
   "metadata": {},
   "outputs": [
    {
     "name": "stdout",
     "output_type": "stream",
     "text": [
      "[9, 7, 5, 1, 3, 2, 4]\n"
     ]
    }
   ],
   "source": [
    "import heapq\n",
    "data = [1,3,5,7,9,2,4]\n",
    "# for item in data:\n",
    "#     heapq._heappush_max(heap, item)\n",
    "heapq._heapify_max(data)\n",
    "print(data)"
   ]
  },
  {
   "cell_type": "code",
   "execution_count": 39,
   "metadata": {},
   "outputs": [
    {
     "name": "stdout",
     "output_type": "stream",
     "text": [
      "[7, 5, 4, 3, 2, 1]\n"
     ]
    }
   ],
   "source": [
    "output = []\n",
    "while data:\n",
    "    output.append(heapq._heappop_max(data))\n",
    "print(output)"
   ]
  },
  {
   "cell_type": "markdown",
   "metadata": {},
   "source": [
    "# Trie"
   ]
  },
  {
   "cell_type": "code",
   "execution_count": 5,
   "metadata": {},
   "outputs": [
    {
     "name": "stdout",
     "output_type": "stream",
     "text": [
      "{'h': {'i': {'*': '*'}, 'e': {'l': {'l': {'o': {'*': '*'}}}}, 'o': {'w': {'d': {'y': {'*': '*'}}}}}}\n"
     ]
    }
   ],
   "source": [
    "_end = '*'\n",
    "\n",
    "# takes in a list of words\n",
    "def make_trie(*words):\n",
    "    # creates our root dict()\n",
    "    trie = dict()\n",
    "\n",
    "    for word in words:\n",
    "        # create a temporary dict based off our root\n",
    "        # dict object\n",
    "        temp_dict = trie\n",
    "\n",
    "        for letter in word:\n",
    "            # update our temporary dict and add our current\n",
    "            # letter and a sub-dictionary\n",
    "            temp_dict = temp_dict.setdefault(letter, {})\n",
    "\n",
    "        # If our word is finished, add {'*': '*'}\n",
    "        # this tells us our word is finished\n",
    "        temp_dict[_end] = _end\n",
    "    return trie\n",
    "\n",
    "# Test our trie creation\n",
    "trie = make_trie('hi', 'hello', 'howdy')\n",
    "# print out our new trie\n",
    "print(trie)"
   ]
  },
  {
   "cell_type": "markdown",
   "metadata": {},
   "source": [
    "(1<<31)-1"
   ]
  },
  {
   "cell_type": "code",
   "execution_count": null,
   "metadata": {},
   "outputs": [],
   "source": []
  }
 ],
 "metadata": {
  "kernelspec": {
   "display_name": "Python 3",
   "language": "python",
   "name": "python3"
  },
  "language_info": {
   "codemirror_mode": {
    "name": "ipython",
    "version": 3
   },
   "file_extension": ".py",
   "mimetype": "text/x-python",
   "name": "python",
   "nbconvert_exporter": "python",
   "pygments_lexer": "ipython3",
   "version": "3.7.3"
  }
 },
 "nbformat": 4,
 "nbformat_minor": 2
}
