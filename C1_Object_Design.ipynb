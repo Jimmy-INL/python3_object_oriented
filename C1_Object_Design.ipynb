{
 "cells": [
  {
   "cell_type": "markdown",
   "metadata": {},
   "source": [
    "# Chapter 2 Objects in Python"
   ]
  },
  {
   "cell_type": "markdown",
   "metadata": {},
   "source": [
    "Creation of Python Class:"
   ]
  },
  {
   "cell_type": "markdown",
   "metadata": {},
   "source": [
    "NoteBook Case:\n",
    "\n",
    "Directory structure\n",
    "\n",
    "parent_directory/\n",
    "\n",
    "    notebook.py\n",
    "    menu.py\n",
    "    command_option.py  "
   ]
  },
  {
   "cell_type": "code",
   "execution_count": 3,
   "metadata": {},
   "outputs": [],
   "source": [
    "import datetime\n",
    "last_id = 0\n",
    "class Note:\n",
    "    \"\"\"Represent a note in Notebook. Match against a string in searches and store tags for each note\"\"\"\n",
    "    \n",
    "    def __init__(self, memo, tags=''):\n",
    "        \"\"\"initialize a note with memo and optional space tags + creation date/ unique id\"\"\"\n",
    "        self.memo = memo\n",
    "        self.tags = tags\n",
    "        self.creation_tags = datetime.date.today()\n",
    "        global last_id\n",
    "        last_id += 1\n",
    "        self.id = last_id\n",
    "        \n",
    "    def match(self, filter_note):\n",
    "        \"\"\"Determine if this note matches the filter text. Return True if it matches, otherwise False\"\"\"\n",
    "        return filter_note in self.memo or filter_note in self.tags"
   ]
  },
  {
   "cell_type": "code",
   "execution_count": 5,
   "metadata": {},
   "outputs": [],
   "source": [
    "class Notebook:\n",
    "    \"\"\"Represent a collection of notes that can be tagged, modified, and searched\"\"\"\n",
    "    \n",
    "    def __init__(self):\n",
    "        \"\"\"Initialize a notebook with an empty list\"\"\"\n",
    "        self.notes = []\n",
    "        \n",
    "    def new_note(self, memo, tags = ''):\n",
    "        self.notes.append(Note(memo, tags))\n",
    "        \n",
    "    def modify_memo(self, note_id, memo):\n",
    "        \"\"\"Find the note with the given_id and change the memo accordingly\"\"\"\n",
    "        for note in self.notes:\n",
    "            if note.id == note_id:\n",
    "                note.memo = memo\n",
    "                break\n",
    "    \n",
    "    def modify_tags(self, note_id, tags):\n",
    "        for note in self.notes:\n",
    "            if note.id == note_id:\n",
    "                note.tags = tags\n",
    "                break\n",
    "                \n",
    "    def search(self, filter_note):\n",
    "        \"\"\"Find all notes that match the given filter\"\"\"\n",
    "        return [note for note in self.notes if note.match(filter_note)]"
   ]
  },
  {
   "cell_type": "markdown",
   "metadata": {},
   "source": [
    "modify_memo() and modify_tags() are almost the same. We can improve this further."
   ]
  },
  {
   "cell_type": "code",
   "execution_count": 2,
   "metadata": {},
   "outputs": [],
   "source": [
    "def _find_note(self, note_id):\n",
    "    \"\"\"Locate the note with the note_id\"\"\"\n",
    "    for note in self.notes:\n",
    "        if note.id == note_id:\n",
    "            return note\n",
    "        \n",
    "def modify_memo(self, note_id, memo):\n",
    "    \"\"\"Find the note with given id and change the memo\"\"\"\n",
    "    self._find_note(note_id).memo = memo\n",
    "    \n",
    "def modify_tags(self, note_id, tags):\n",
    "    self._find_note(note_id).tags = tags"
   ]
  },
  {
   "cell_type": "markdown",
   "metadata": {},
   "source": [
    "# Chapter 3: Similiar Objects in Python3 (Inheritance)"
   ]
  },
  {
   "cell_type": "markdown",
   "metadata": {},
   "source": [
    "Typical Inheritance:"
   ]
  },
  {
   "cell_type": "code",
   "execution_count": 3,
   "metadata": {},
   "outputs": [],
   "source": [
    "class MySubClass(object):\n",
    "    pass"
   ]
  },
  {
   "cell_type": "markdown",
   "metadata": {},
   "source": [
    "Example Class Contact --> email, name"
   ]
  },
  {
   "cell_type": "code",
   "execution_count": 5,
   "metadata": {},
   "outputs": [],
   "source": [
    "class Contact:\n",
    "    all_contacts = []\n",
    "    \n",
    "    def __init__(self, name, email):\n",
    "        self.name = name\n",
    "        self.email = email\n",
    "        Contact.all_contacts.append(self)\n",
    "        \n",
    "class Supplier:\n",
    "    def order(self, order):\n",
    "        print(\"If this were a real system we would send\"\n",
    "             \"'{}' order to be '{}'\".format(order, self.name))"
   ]
  },
  {
   "cell_type": "markdown",
   "metadata": {},
   "source": [
    "Extending Built-in"
   ]
  },
  {
   "cell_type": "code",
   "execution_count": 1,
   "metadata": {},
   "outputs": [],
   "source": [
    "# Example 1\n",
    "class ContactList(list):\n",
    "    def search(self, name):\n",
    "        \"\"\"\n",
    "        Return all contacts that contain the search value in their name\n",
    "        \"\"\"\n",
    "        matching_contacts = []\n",
    "        for contact in self:\n",
    "            if name in contact.name:\n",
    "                matching_contacts.append(contact)\n",
    "        return matching_contacts\n",
    "    \n",
    "class Contact:\n",
    "    all_contacts = ContactList()\n",
    "    \n",
    "    def __init__(self, name, email):\n",
    "        self.name = name\n",
    "        self.email = email\n",
    "        self.all_contacts.append(self)"
   ]
  },
  {
   "cell_type": "code",
   "execution_count": 3,
   "metadata": {},
   "outputs": [],
   "source": [
    "# Example 2\n",
    "class LongNameDict(dict):\n",
    "    def longest_key(self):\n",
    "        longest = None\n",
    "        for key in self:\n",
    "            if not longest or len(key) > len(longest):\n",
    "                longest = key\n",
    "        return longest\n"
   ]
  },
  {
   "cell_type": "markdown",
   "metadata": {},
   "source": [
    "Overriding and super"
   ]
  },
  {
   "cell_type": "code",
   "execution_count": 4,
   "metadata": {},
   "outputs": [],
   "source": [
    "# We can overriding any function like __init__() in another classes. However, this could make the code maintenance hard.\n",
    "# We can use super() to execute the previous functions\n",
    "class Friend(Contact):\n",
    "    def __init__(self, name, email, phone):\n",
    "        super().__init__(name, email)\n",
    "        self.phone = phone"
   ]
  },
  {
   "cell_type": "markdown",
   "metadata": {},
   "source": [
    "Multi-inheritance"
   ]
  },
  {
   "cell_type": "code",
   "execution_count": 5,
   "metadata": {},
   "outputs": [],
   "source": [
    "class Mailsender:\n",
    "    def send_mail(self, message):\n",
    "        print(\"Sending mail to \" + self.email)\n",
    "\n",
    "class EmailableContact(Contact, Mailsender):\n",
    "    pass\n"
   ]
  },
  {
   "cell_type": "markdown",
   "metadata": {},
   "source": [
    "Other options to complete multi-inheritance\n",
    "1. create a single inheritance and add send_mail function to the subclass\n",
    "2. create a standalone Python function \n",
    "3. composition instead of inheritance\n",
    "4. Monkey-patch\n",
    "\n",
    "One potential problem:\n",
    "1. multi superclasses lead to unclearness"
   ]
  },
  {
   "cell_type": "markdown",
   "metadata": {},
   "source": [
    "THE DIAMOND PROBLEM"
   ]
  },
  {
   "cell_type": "code",
   "execution_count": 3,
   "metadata": {},
   "outputs": [],
   "source": [
    "# Solution One\n",
    "class BaseClass:\n",
    "    num_base_calls = 0\n",
    "\n",
    "    def call_me(self):\n",
    "        print('Calling method on base class')\n",
    "        self.num_base_calls += 1\n",
    "\n",
    "\n",
    "class LeftSubClass(BaseClass):\n",
    "    num_left_calls = 0\n",
    "\n",
    "    def call_me(self):\n",
    "        BaseClass.call_me(self)\n",
    "        print('Calling method on left base class')\n",
    "        self.num_left_calls += 1\n",
    "\n",
    "\n",
    "class RightSubClass(BaseClass):\n",
    "    num_right_calls = 0\n",
    "\n",
    "    def call_me(self):\n",
    "        BaseClass.call_me(self)\n",
    "        print('Calling method on right base class')\n",
    "        self.num_right_calls += 1\n",
    "\n",
    "\n",
    "class Subclass(LeftSubClass, RightSubClass):\n",
    "    num_sub_calls = 0\n",
    "\n",
    "    def call_me(self):\n",
    "        LeftSubClass.call_me(self)\n",
    "        RightSubClass.call_me(self)\n",
    "        print('Calling method on sub class')\n",
    "        self.num_sub_calls += 1"
   ]
  },
  {
   "cell_type": "code",
   "execution_count": 4,
   "metadata": {},
   "outputs": [
    {
     "name": "stdout",
     "output_type": "stream",
     "text": [
      "Calling method on base class\n",
      "Calling method on left base class\n",
      "Calling method on base class\n",
      "Calling method on right base class\n",
      "Calling method on sub class\n"
     ]
    }
   ],
   "source": [
    "s = Subclass()\n",
    "s.call_me()"
   ]
  },
  {
   "cell_type": "code",
   "execution_count": 5,
   "metadata": {},
   "outputs": [],
   "source": [
    "# Solution: calling super()\n",
    "class BaseClass:\n",
    "    num_base_calls = 0\n",
    "\n",
    "    def call_me(self):\n",
    "        print('Calling method on base class')\n",
    "        self.num_base_calls += 1\n",
    "\n",
    "\n",
    "class LeftSubClass(BaseClass):\n",
    "    num_left_calls = 0\n",
    "\n",
    "    def call_me(self):\n",
    "        super().call_me()\n",
    "        print('Calling method on left base class')\n",
    "        self.num_left_calls += 1\n",
    "\n",
    "\n",
    "class RightSubClass(BaseClass):\n",
    "    num_right_calls = 0\n",
    "\n",
    "    def call_me(self):\n",
    "        super().call_me()\n",
    "        print('Calling method on right base class')\n",
    "        self.num_right_calls += 1\n",
    "\n",
    "\n",
    "class Subclass(LeftSubClass, RightSubClass):\n",
    "    num_sub_calls = 0\n",
    "\n",
    "    def call_me(self):\n",
    "        super().call_me()\n",
    "        print('Calling method on sub class')\n",
    "        self.num_sub_calls += 1\n"
   ]
  },
  {
   "cell_type": "code",
   "execution_count": 6,
   "metadata": {},
   "outputs": [
    {
     "name": "stdout",
     "output_type": "stream",
     "text": [
      "Calling method on base class\n",
      "Calling method on right base class\n",
      "Calling method on left base class\n",
      "Calling method on sub class\n"
     ]
    }
   ],
   "source": [
    "s = Subclass()\n",
    "s.call_me()"
   ]
  },
  {
   "cell_type": "markdown",
   "metadata": {},
   "source": [
    "Right solution for multi-inheritance in Friend Class"
   ]
  },
  {
   "cell_type": "code",
   "execution_count": 7,
   "metadata": {},
   "outputs": [],
   "source": [
    "class Contact:\n",
    "    all_contacts = []\n",
    "    \n",
    "    def __init__(self, name = '', email = '', **kwargs):\n",
    "        super().__init__(**kwargs)\n",
    "        self.name = name\n",
    "        self.email = email\n",
    "        self.all_contacts.append(self)\n",
    "    \n",
    "class AddressHolder:\n",
    "    def __init__(self, street='', city='', state='', code='',\n",
    "                **kwargs):\n",
    "        super().__init__(**kwargs)\n",
    "        self.street = street\n",
    "        self.city = city\n",
    "        self.state = state\n",
    "        self.code = code\n",
    "        \n",
    "class Friend(Contact, AddressHolder):\n",
    "    def __init__(self, phone, **kwargs):\n",
    "        super().__init__(**kwargs)\n",
    "        self.phone = phone"
   ]
  },
  {
   "cell_type": "markdown",
   "metadata": {},
   "source": [
    "A more transparent way of combining two disparate classes: using\n",
    "    composition or one design pattern"
   ]
  }
 ],
 "metadata": {
  "kernelspec": {
   "display_name": "Python 3",
   "language": "python",
   "name": "python3"
  },
  "language_info": {
   "codemirror_mode": {
    "name": "ipython",
    "version": 3
   },
   "file_extension": ".py",
   "mimetype": "text/x-python",
   "name": "python",
   "nbconvert_exporter": "python",
   "pygments_lexer": "ipython3",
   "version": "3.6.5"
  }
 },
 "nbformat": 4,
 "nbformat_minor": 2
}
