{
 "cells": [
  {
   "cell_type": "markdown",
   "metadata": {},
   "source": [
    "# Chapter 2 Objects in Python"
   ]
  },
  {
   "cell_type": "markdown",
   "metadata": {},
   "source": [
    "Creation of Python Class:"
   ]
  },
  {
   "cell_type": "markdown",
   "metadata": {},
   "source": [
    "NoteBook Case:\n",
    "\n",
    "Directory structure\n",
    "\n",
    "parent_directory/\n",
    "\n",
    "    notebook.py\n",
    "    menu.py\n",
    "    command_option.py  "
   ]
  },
  {
   "cell_type": "code",
   "execution_count": 3,
   "metadata": {},
   "outputs": [],
   "source": [
    "import datetime\n",
    "last_id = 0\n",
    "class Note:\n",
    "    \"\"\"Represent a note in Notebook. Match against a string in searches and store tags for each note\"\"\"\n",
    "    \n",
    "    def __init__(self, memo, tags=''):\n",
    "        \"\"\"initialize a note with memo and optional space tags + creation date/ unique id\"\"\"\n",
    "        self.memo = memo\n",
    "        self.tags = tags\n",
    "        self.creation_tags = datetime.date.today()\n",
    "        global last_id\n",
    "        last_id += 1\n",
    "        self.id = last_id\n",
    "        \n",
    "    def match(self, filter_note):\n",
    "        \"\"\"Determine if this note matches the filter text. Return True if it matches, otherwise False\"\"\"\n",
    "        return filter_note in self.memo or filter_note in self.tags"
   ]
  },
  {
   "cell_type": "code",
   "execution_count": 5,
   "metadata": {},
   "outputs": [],
   "source": [
    "class Notebook:\n",
    "    \"\"\"Represent a collection of notes that can be tagged, modified, and searched\"\"\"\n",
    "    \n",
    "    def __init__(self):\n",
    "        \"\"\"Initialize a notebook with an empty list\"\"\"\n",
    "        self.notes = []\n",
    "        \n",
    "    def new_note(self, memo, tags = ''):\n",
    "        self.notes.append(Note(memo, tags))\n",
    "        \n",
    "    def modify_memo(self, note_id, memo):\n",
    "        \"\"\"Find the note with the given_id and change the memo accordingly\"\"\"\n",
    "        for note in self.notes:\n",
    "            if note.id == note_id:\n",
    "                note.memo = memo\n",
    "                break\n",
    "    \n",
    "    def modify_tags(self, note_id, tags):\n",
    "        for note in self.notes:\n",
    "            if note.id == note_id:\n",
    "                note.tags = tags\n",
    "                break\n",
    "                \n",
    "    def search(self, filter_note):\n",
    "        \"\"\"Find all notes that match the given filter\"\"\"\n",
    "        return [note for note in self.notes if note.match(filter_note)]"
   ]
  },
  {
   "cell_type": "markdown",
   "metadata": {},
   "source": [
    "modify_memo() and modify_tags() are almost the same. We can improve this further."
   ]
  },
  {
   "cell_type": "code",
   "execution_count": 2,
   "metadata": {},
   "outputs": [],
   "source": [
    "def _find_note(self, note_id):\n",
    "    \"\"\"Locate the note with the note_id\"\"\"\n",
    "    for note in self.notes:\n",
    "        if note.id == note_id:\n",
    "            return note\n",
    "        \n",
    "def modify_memo(self, note_id, memo):\n",
    "    \"\"\"Find the note with given id and change the memo\"\"\"\n",
    "    self._find_note(note_id).memo = memo\n",
    "    \n",
    "def modify_tags(self, note_id, tags):\n",
    "    self._find_note(note_id).tags = tags"
   ]
  },
  {
   "cell_type": "markdown",
   "metadata": {},
   "source": [
    "# Chapter 3: Similiar Objects in Python3 (Inheritance)"
   ]
  },
  {
   "cell_type": "markdown",
   "metadata": {},
   "source": [
    "Typical Inheritance:"
   ]
  },
  {
   "cell_type": "code",
   "execution_count": 3,
   "metadata": {},
   "outputs": [],
   "source": [
    "class MySubClass(object):\n",
    "    pass"
   ]
  },
  {
   "cell_type": "markdown",
   "metadata": {},
   "source": [
    "Example Class Contact --> email, name"
   ]
  },
  {
   "cell_type": "code",
   "execution_count": 5,
   "metadata": {},
   "outputs": [],
   "source": [
    "class Contact:\n",
    "    all_contacts = []\n",
    "    \n",
    "    def __init__(self, name, email):\n",
    "        self.name = name\n",
    "        self.email = email\n",
    "        Contact.all_contacts.append(self)\n",
    "        \n",
    "class Supplier:\n",
    "    def order(self, order):\n",
    "        print(\"If this were a real system we would send\"\n",
    "             \"'{}' order to be '{}'\".format(order, self.name))"
   ]
  },
  {
   "cell_type": "markdown",
   "metadata": {},
   "source": [
    "Extending Built-in"
   ]
  },
  {
   "cell_type": "code",
   "execution_count": 1,
   "metadata": {},
   "outputs": [],
   "source": [
    "# Example 1\n",
    "class ContactList(list):\n",
    "    def search(self, name):\n",
    "        \"\"\"\n",
    "        Return all contacts that contain the search value in their name\n",
    "        \"\"\"\n",
    "        matching_contacts = []\n",
    "        for contact in self:\n",
    "            if name in contact.name:\n",
    "                matching_contacts.append(contact)\n",
    "        return matching_contacts\n",
    "    \n",
    "class Contact:\n",
    "    all_contacts = ContactList()\n",
    "    \n",
    "    def __init__(self, name, email):\n",
    "        self.name = name\n",
    "        self.email = email\n",
    "        self.all_contacts.append(self)"
   ]
  },
  {
   "cell_type": "code",
   "execution_count": 3,
   "metadata": {},
   "outputs": [],
   "source": [
    "# Example 2\n",
    "class LongNameDict(dict):\n",
    "    def longest_key(self):\n",
    "        longest = None\n",
    "        for key in self:\n",
    "            if not longest or len(key) > len(longest):\n",
    "                longest = key\n",
    "        return longest\n"
   ]
  },
  {
   "cell_type": "markdown",
   "metadata": {},
   "source": [
    "Overriding and super"
   ]
  },
  {
   "cell_type": "code",
   "execution_count": 4,
   "metadata": {},
   "outputs": [],
   "source": [
    "# We can overriding any function like __init__() in another classes. However, this could make the code maintenance hard.\n",
    "# We can use super() to execute the previous functions\n",
    "class Friend(Contact):\n",
    "    def __init__(self, name, email, phone):\n",
    "        super().__init__(name, email)\n",
    "        self.phone = phone"
   ]
  },
  {
   "cell_type": "markdown",
   "metadata": {},
   "source": [
    "Multi-inheritance"
   ]
  },
  {
   "cell_type": "code",
   "execution_count": 5,
   "metadata": {},
   "outputs": [],
   "source": [
    "class Mailsender:\n",
    "    def send_mail(self, message):\n",
    "        print(\"Sending mail to \" + self.email)\n",
    "\n",
    "class EmailableContact(Contact, Mailsender):\n",
    "    pass\n"
   ]
  },
  {
   "cell_type": "code",
   "execution_count": null,
   "metadata": {},
   "outputs": [],
   "source": []
  }
 ],
 "metadata": {
  "kernelspec": {
   "display_name": "Python 3",
   "language": "python",
   "name": "python3"
  },
  "language_info": {
   "codemirror_mode": {
    "name": "ipython",
    "version": 3
   },
   "file_extension": ".py",
   "mimetype": "text/x-python",
   "name": "python",
   "nbconvert_exporter": "python",
   "pygments_lexer": "ipython3",
   "version": "3.6.5"
  }
 },
 "nbformat": 4,
 "nbformat_minor": 2
}
